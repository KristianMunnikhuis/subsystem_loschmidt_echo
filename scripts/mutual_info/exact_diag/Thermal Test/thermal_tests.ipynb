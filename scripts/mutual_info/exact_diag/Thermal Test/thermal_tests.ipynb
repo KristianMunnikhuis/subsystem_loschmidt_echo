{
 "cells": [
  {
   "cell_type": "code",
   "execution_count": null,
   "id": "eecc60c1",
   "metadata": {},
   "outputs": [],
   "source": [
    "import sys\n",
    "import os\n",
    "sys.path.append(\"../../../../src/\")\n",
    "#Imports\n",
    "import numpy as np\n",
    "import scipy as sp\n",
    "import numpy.linalg as la\n",
    "import matplotlib.pyplot as plt\n",
    "#Custom made imports\n",
    "import single_particle_sector as sps\n",
    "from time import time"
   ]
  },
  {
   "cell_type": "code",
   "execution_count": null,
   "id": "633beb2f",
   "metadata": {},
   "outputs": [],
   "source": [
    "#Model Parameters\n",
    "L = 10\n",
    "J = -1\n",
    "h = 0.5\n",
    "beta = 1 "
   ]
  },
  {
   "cell_type": "code",
   "execution_count": 3,
   "id": "fc84ea34",
   "metadata": {},
   "outputs": [],
   "source": [
    "###Determining Z\n",
    "Hp = sps.H_bdg(h,L,J,\"PBC\")\n",
    "Ep, Vp = la.eigh(Hp)\n",
    "Vp = Vp[:,:L]\n",
    "Ep = Ep[L:]\n",
    "Gp = sps.G_tfim(Vp)\n",
    "Fp = Gp[:L,L:]\n",
    "Gp = Gp[:L,:L]\n",
    "#M[x,y] = <BxAy>\n",
    "Mp = np.eye(L)- 2*(Gp+Fp)\n",
    "n_p = la.det(Mp)*(-1)**L \n",
    "###Determining Z\n",
    "Ha = sps.H_bdg(h,L,J,\"ABC\")\n",
    "Ea, Va = la.eigh(Ha)\n",
    "Va = Va[:,:L]\n",
    "Ea = Ea[L:]\n",
    "Ga = sps.G_tfim(Va)\n",
    "Fa = Ga[:L,L:]\n",
    "Ga = Ga[:L,:L]\n",
    "#M[x,y] = <BxAy>\n",
    "Ma = np.eye(L)- 2*(Ga+Fa)\n",
    "n_a = la.det(Ma)*(-1)**L \n"
   ]
  },
  {
   "cell_type": "code",
   "execution_count": 4,
   "id": "156315a9",
   "metadata": {},
   "outputs": [
    {
     "name": "stdout",
     "output_type": "stream",
     "text": [
      "2.4044496836869828e-05\n",
      "3.930116968623909\n",
      "0.17859900229069892\n",
      "2.4052209785337227e-05\n",
      "3.9313776274495784\n",
      "-0.1783076952979138\n",
      "9.453081675670302e-05\n"
     ]
    }
   ],
   "source": [
    "from scipy.linalg import expm\n",
    "beta = 1\n",
    "\n",
    "#Ea = Ea[L:]\n",
    "suma= np.sum(Ea)*-beta\n",
    "print(np.exp(suma))\n",
    "prod1a = np.prod([1+np.exp(-2*beta*Ea[i]) for i in range(len(Ea))])\n",
    "print(prod1a)\n",
    "\n",
    "prod2a = n_a*np.prod([1-np.exp(-2*beta*Ea[i]) for i in range(len(Ea))])\n",
    "print(prod2a)\n",
    "\n",
    "sump= np.sum(Ep)*-beta\n",
    "print(np.exp(sump))\n",
    "prod1p = np.prod([1+np.exp(-2*beta*Ep[i]) for i in range(len(Ep))])\n",
    "print(prod1p)\n",
    "\n",
    "prod2p = n_p*np.prod([1-np.exp(-2*beta*Ep[i]) for i in range(len(Ep))])\n",
    "print(prod2p)\n",
    "Z1 = np.exp(suma)*(prod1a+prod2a)\n",
    "Z2 = np.exp(sump)*(prod1p+prod2p)\n",
    "\n",
    "Z=(Z1+Z2)/2\n",
    "\n",
    "print(Z)"
   ]
  },
  {
   "cell_type": "code",
   "execution_count": null,
   "id": "c1cf704c",
   "metadata": {},
   "outputs": [],
   "source": [
    "for l in range(L):\n",
    "    E = Ea[l]\n",
    "    "
   ]
  },
  {
   "cell_type": "code",
   "execution_count": null,
   "id": "be066dc6",
   "metadata": {},
   "outputs": [],
   "source": []
  },
  {
   "cell_type": "code",
   "execution_count": null,
   "id": "083d92af",
   "metadata": {},
   "outputs": [],
   "source": []
  },
  {
   "cell_type": "code",
   "execution_count": null,
   "id": "32ce1463",
   "metadata": {},
   "outputs": [],
   "source": []
  }
 ],
 "metadata": {
  "kernelspec": {
   "display_name": "base",
   "language": "python",
   "name": "python3"
  },
  "language_info": {
   "codemirror_mode": {
    "name": "ipython",
    "version": 3
   },
   "file_extension": ".py",
   "mimetype": "text/x-python",
   "name": "python",
   "nbconvert_exporter": "python",
   "pygments_lexer": "ipython3",
   "version": "3.12.3"
  }
 },
 "nbformat": 4,
 "nbformat_minor": 5
}
