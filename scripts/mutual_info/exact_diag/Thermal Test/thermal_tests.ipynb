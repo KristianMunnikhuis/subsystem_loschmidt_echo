{
 "cells": [
  {
   "cell_type": "code",
   "execution_count": 1,
   "id": "eecc60c1",
   "metadata": {},
   "outputs": [],
   "source": [
    "import sys\n",
    "import os\n",
    "sys.path.append(\"../../../../src/\")\n",
    "#Imports\n",
    "import numpy as np\n",
    "import scipy as sp\n",
    "import numpy.linalg as la\n",
    "import matplotlib.pyplot as plt\n",
    "#Custom made imports\n",
    "import single_particle_sector as sps\n",
    "from time import time"
   ]
  },
  {
   "cell_type": "code",
   "execution_count": 197,
   "id": "d7167cd8",
   "metadata": {},
   "outputs": [],
   "source": [
    "###Functions\n",
    "\n",
    "# def En(L, J, h, OBC):\n",
    "#     bc = [\"OBC\", \"OBC\"] if OBC else [\"ABC\", \"PBC\"]\n",
    "#     Es, ns = [], []\n",
    "\n",
    "#     for p, boundary_condition in enumerate(bc):\n",
    "#         H = sps.H_bdg(h, L, J, boundary_condition)\n",
    "#         E, V = la.eigh(H)\n",
    "#         E = E[L:]\n",
    "#         V = V[:, :L]\n",
    "#         G = sps.G_tfim(V)\n",
    "#         F = G[:L, L:]\n",
    "#         G = G[:L, :L]\n",
    "#         M = np.eye(L) - 2 * (G + F)\n",
    "#         n = la.det(M) * (-1) ** L * (-1) ** p\n",
    "#         Es.append(E)\n",
    "#         ns.append(n)\n",
    "#     return Es, ns\n",
    "\n",
    "def En(L,J,h,OBC):\n",
    "    if OBC == True:\n",
    "        bc = [\"OBC\",\"OBC\"]\n",
    "    else:\n",
    "        bc = [\"ABC\",\"PBC\"]\n",
    "    \n",
    "    ns = []\n",
    "    Es = []\n",
    "\n",
    "    for p in range(0,2):\n",
    "        boundary_condition = bc[p]\n",
    "        H = sps.H_bdg(h,L,J,boundary_condition)\n",
    "        E, V = la.eigh(H)\n",
    "        U = V.copy()\n",
    "        V = V[:,:L]\n",
    "        E = E[L:]\n",
    "        G = sps.G_tfim(V)\n",
    "\n",
    "        F = G[:L,L:]\n",
    "        G = G[:L,:L]\n",
    "        #####\n",
    "        M = np.eye(L)-2*(G+F)\n",
    "        n = la.det(M)*(-1)**L * (-1)**p\n",
    "        Es.append(E)\n",
    "        ns.append(n)\n",
    "    return  Es, ns, U\n",
    "\n",
    "\n",
    "def Zi(p,beta,Es,ns):\n",
    "    E = sum(Es[p])\n",
    "    Z =  (np.prod(1+np.exp(-beta*2*Es[p]))+ns[p]*np.prod(1-np.exp(-2*beta*Es[p])))/2\n",
    "    return Z\n",
    "\n",
    "def Z(beta,Es,ns):\n",
    "   return Zi(0,beta,Es,ns)+Zi(1,beta,Es,ns)\n",
    "\n",
    "def F(beta,Es,ns):\n",
    "    return -np.log(Z(beta,Es,ns))/beta\n",
    "def cap(p,mu,beta,Es,ns):\n",
    "    pf = np.exp(-2*beta*Es[p][mu])/2/Z(beta,Es,ns)\n",
    "    E = Es[p].copy()\n",
    "    E = np.delete(E,mu)\n",
    "    term1 = np.prod(1+np.exp(-2*beta*E))\n",
    "    term2 = ns[p]*np.prod(1-np.exp(-2*beta*E))\n",
    "    return pf*(term1-term2)\n",
    "\n",
    "\n",
    "def ca(mu,beta,Es,ns):\n",
    "    return cap(0,mu,beta,Es,ns)+cap(1,mu,beta,Es,ns)\n",
    "\n",
    "def acp(p,mu,beta,Es,ns):\n",
    "    pf = 1/2/Z(beta,Es,ns)\n",
    "    E = Es[p].copy()\n",
    "    E = np.delete(E,mu)\n",
    "    term1 = np.prod(1+np.exp(-2*beta*E))\n",
    "    term2 = ns[p]*np.prod(1-np.exp(-2*beta*E))\n",
    "\n",
    "    return pf*(term1+term2)\n",
    "\n",
    "def ac(mu,beta,Es,ns):\n",
    "    return acp(0,mu,beta,Es,ns)+acp(1,mu,beta,Es,ns)\n",
    "def E_p(p,beta,Es,ns):\n",
    "    E = Es[p]\n",
    "    Hp = sum([2*E[mu]*(ca(mu,beta,Es,ns)-1/2) for mu in range(L)])\n",
    "    return Hp\n",
    "def E_th(beta,Es,ns):\n",
    "    return (E_p(0,beta,Es,ns)+E_p(1,beta,Es,ns))/2"
   ]
  },
  {
   "cell_type": "code",
   "execution_count": 198,
   "id": "633beb2f",
   "metadata": {},
   "outputs": [
    {
     "data": {
      "text/plain": [
       "np.float64(1023.9897600563193)"
      ]
     },
     "execution_count": 198,
     "metadata": {},
     "output_type": "execute_result"
    }
   ],
   "source": [
    "#Model Parameters\n",
    "L = 10\n",
    "J = -1\n",
    "h = 0\n",
    "OBC = False\n",
    "Es, ns ,_ = En(L,J,0,False)\n",
    "Z(0.000001,Es,ns)\n"
   ]
  },
  {
   "cell_type": "code",
   "execution_count": 243,
   "id": "56385642",
   "metadata": {},
   "outputs": [
    {
     "data": {
      "image/png": "[encoded data removed]",
      "text/plain": [
       "<Figure size 640x480 with 1 Axes>"
      ]
     },
     "metadata": {},
     "output_type": "display_data"
    }
   ],
   "source": [
    "##Recreating Figure\n",
    "T = np.linspace(0.01,1,100)\n",
    "h =  0\n",
    "L = 10\n",
    "Es, ns,_ = En(L,J,h,OBC)\n",
    "E1 = [E_th(1/ti,Es,ns)/L for ti in T]\n",
    "Es, ns,_ = En(L,J,h,True)\n",
    "E2 = [E_th(1/ti,Es,ns)/L for ti in T]\n",
    "plt.plot(T,E1)\n",
    "plt.plot(T,E2)\n",
    "plt.ylim(-1.1,-.8)\n",
    "plt.xlim(T[0],T[-1])\n",
    "plt.show()\n",
    "plt.close()"
   ]
  },
  {
   "cell_type": "code",
   "execution_count": null,
   "id": "f589e5b6",
   "metadata": {},
   "outputs": [],
   "source": [
    "\n"
   ]
  },
  {
   "cell_type": "markdown",
   "id": "a5708fb5",
   "metadata": {},
   "source": [
    "LINEAR ALGEBRA\n"
   ]
  },
  {
   "cell_type": "code",
   "execution_count": null,
   "id": "2859ec1d",
   "metadata": {},
   "outputs": [],
   "source": []
  },
  {
   "cell_type": "code",
   "execution_count": null,
   "id": "07fd2707",
   "metadata": {},
   "outputs": [
    {
     "name": "stderr",
     "output_type": "stream",
     "text": [
      "/tmp/ipykernel_246232/1652700573.py:1: RuntimeWarning: divide by zero encountered in divide\n",
      "  plt.plot(1/betas,-np.gradient(np.log(Z_beta),betas)/L)\n"
     ]
    },
    {
     "data": {
      "text/plain": [
       "[<matplotlib.lines.Line2D at 0x79bed8a40320>]"
      ]
     },
     "execution_count": 242,
     "metadata": {},
     "output_type": "execute_result"
    },
    {
     "data": {
      "image/png": "[encoded data removed]",
      "text/plain": [
       "<Figure size 640x480 with 1 Axes>"
      ]
     },
     "metadata": {},
     "output_type": "display_data"
    }
   ],
   "source": []
  },
  {
   "cell_type": "code",
   "execution_count": 224,
   "id": "4d76e192",
   "metadata": {},
   "outputs": [
    {
     "data": {
      "text/plain": [
       "[array([1., 1., 1., 1., 1.]), array([1., 1., 1., 1., 1.])]"
      ]
     },
     "execution_count": 224,
     "metadata": {},
     "output_type": "execute_result"
    }
   ],
   "source": [
    "Es"
   ]
  },
  {
   "cell_type": "code",
   "execution_count": 229,
   "id": "a55025c8",
   "metadata": {},
   "outputs": [],
   "source": [
    "M = np.eye(L)-2*(G+F)"
   ]
  },
  {
   "cell_type": "code",
   "execution_count": 230,
   "id": "1d118c03",
   "metadata": {},
   "outputs": [
    {
     "data": {
      "text/plain": [
       "np.float64(0.28645994907514005)"
      ]
     },
     "execution_count": 230,
     "metadata": {},
     "output_type": "execute_result"
    }
   ],
   "source": [
    "la.det(M)"
   ]
  },
  {
   "cell_type": "code",
   "execution_count": null,
   "id": "51dbd1fe",
   "metadata": {},
   "outputs": [],
   "source": []
  },
  {
   "cell_type": "code",
   "execution_count": null,
   "id": "3396c0f8",
   "metadata": {},
   "outputs": [],
   "source": []
  }
 ],
 "metadata": {
  "kernelspec": {
   "display_name": "base",
   "language": "python",
   "name": "python3"
  },
  "language_info": {
   "codemirror_mode": {
    "name": "ipython",
    "version": 3
   },
   "file_extension": ".py",
   "mimetype": "text/x-python",
   "name": "python",
   "nbconvert_exporter": "python",
   "pygments_lexer": "ipython3",
   "version": "3.10.14"
  }
 },
 "nbformat": 4,
 "nbformat_minor": 5
}
