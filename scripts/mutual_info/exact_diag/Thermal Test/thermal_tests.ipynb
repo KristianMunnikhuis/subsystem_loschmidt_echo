{
 "cells": [
  {
   "cell_type": "code",
   "execution_count": 677,
   "id": "eecc60c1",
   "metadata": {},
   "outputs": [],
   "source": [
    "import sys\n",
    "import os\n",
    "sys.path.append(\"../../../../src/\")\n",
    "#Imports\n",
    "import numpy as np\n",
    "import scipy as sp\n",
    "import numpy.linalg as la\n",
    "import matplotlib.pyplot as plt\n",
    "#Custom made imports\n",
    "import single_particle_sector as sps\n",
    "from time import time"
   ]
  },
  {
   "cell_type": "code",
   "execution_count": 678,
   "id": "d7167cd8",
   "metadata": {},
   "outputs": [],
   "source": [
    "###Functions\n",
    "def En(L,J,h,OBC):\n",
    "    if OBC == True:\n",
    "        bc = [\"OBC\",\"OBC\"]\n",
    "    else:\n",
    "        bc = [\"ABC\",\"PBC\"]\n",
    "    \n",
    "    ns = []\n",
    "    Es = []\n",
    "\n",
    "    for p in range(0,2):\n",
    "        boundary_condition = bc[p]\n",
    "        H = sps.H_bdg(h,L,J,boundary_condition)\n",
    "        E, V = la.eigh(H)\n",
    "        U = V.copy()\n",
    "        V = V[:,:L]\n",
    "        E = E[L:]\n",
    "        G = sps.G_tfim(V)\n",
    "\n",
    "        F = G[:L,L:]\n",
    "        G = G[:L,:L]\n",
    "        #####\n",
    "        M = np.eye(L)-2*(G+F)\n",
    "        n = la.det(M)*(-1)**L * (-1)**p\n",
    "        Es.append(E)\n",
    "        ns.append(n)\n",
    "    return  Es, ns\n",
    "\n",
    "\n",
    "def Zi(p,beta,Es,ns):\n",
    "    E = sum(Es[p])\n",
    "    Z =  (np.prod(1+np.exp(-beta*2*Es[p]))+ns[p]*np.prod(1-np.exp(-2*beta*Es[p])))/2\n",
    "    return Z\n",
    "\n",
    "def Z(beta,Es,ns):\n",
    "   return Zi(0,beta,Es,ns)+Zi(1,beta,Es,ns)\n",
    "\n",
    "def F(beta,Es,ns):\n",
    "    return -np.log(Z(beta,Es,ns))/beta\n",
    "\n",
    "\n",
    "def cap(p,mu,beta,Es,ns):\n",
    "    pf = np.exp(-2*beta*Es[p][mu])/2/Z(beta,Es,ns)\n",
    "    E = Es[p].copy()\n",
    "    E = np.delete(E,mu)\n",
    "    term1 = np.prod(1+np.exp(-2*beta*E))\n",
    "    term2 = ns[p]*np.prod(1-np.exp(-2*beta*E))\n",
    "    return pf*(term1-term2)\n",
    "\n",
    "def acp(p,mu,beta,Es,ns):\n",
    "    pf = 1/2/Z(beta,Es,ns)\n",
    "    E = Es[p].copy()\n",
    "    E = np.delete(E,mu)\n",
    "    term1 = np.prod(1+np.exp(-2*beta*E))\n",
    "    term2 = ns[p]*np.prod(1-np.exp(-2*beta*E))\n",
    "\n",
    "    return pf*(term1+term2)\n",
    "\n",
    "def ca(mu,beta,Es,ns):\n",
    "    return cap(0,mu,beta,Es,ns)+cap(1,mu,beta,Es,ns)\n",
    "def ac(mu,beta,Es,ns):\n",
    "    return acp(0,mu,beta,Es,ns)+acp(1,mu,beta,Es,ns)\n",
    "def E_p(p,beta,Es,ns):\n",
    "    E = Es[p]\n",
    "    Hp = sum([2*E[mu]*(ca(mu,beta,Es,ns)-1/2) for mu in range(L)])\n",
    "    return Hp\n",
    "def E_th(beta,Es,ns):\n",
    "    return (E_p(0,beta,Es,ns)+E_p(1,beta,Es,ns))/2"
   ]
  },
  {
   "cell_type": "code",
   "execution_count": 679,
   "id": "633beb2f",
   "metadata": {},
   "outputs": [
    {
     "data": {
      "text/plain": [
       "np.float64(1023.9897600563193)"
      ]
     },
     "execution_count": 679,
     "metadata": {},
     "output_type": "execute_result"
    }
   ],
   "source": [
    "#Model Parameters\n",
    "L = 10\n",
    "J = -1\n",
    "h = 0\n",
    "OBC = False\n",
    "Es, ns = En(L,J,0,False)\n",
    "Z(0.000001,Es,ns)\n"
   ]
  },
  {
   "cell_type": "code",
   "execution_count": 513,
   "id": "56385642",
   "metadata": {},
   "outputs": [
    {
     "data": {
      "image/png": "[encoded data removed]",
      "text/plain": [
       "<Figure size 640x480 with 1 Axes>"
      ]
     },
     "metadata": {},
     "output_type": "display_data"
    }
   ],
   "source": [
    "##Recreating Figure\n",
    "T = np.linspace(0.01,1,100)\n",
    "h =  0.5\n",
    "L = 100\n",
    "Es, ns = En(L,J,h,OBC)\n",
    "E1 = [E_th(1/ti,Es,ns)/L for ti in T]\n",
    "Es, ns = En(L,J,h,True)\n",
    "E2 = [E_th(1/ti,Es,ns)/L for ti in T]\n",
    "plt.plot(T,E1)\n",
    "plt.plot(T,E2)\n",
    "plt.ylim(-1.1,-.8)\n",
    "plt.xlim(T[0],T[-1])\n",
    "plt.show()\n",
    "plt.close()"
   ]
  },
  {
   "cell_type": "code",
   "execution_count": null,
   "id": "f589e5b6",
   "metadata": {},
   "outputs": [
    {
     "name": "stdout",
     "output_type": "stream",
     "text": [
      "h value = 0\n",
      "0.6881720698326819\n",
      "\n",
      "\n",
      "h value = 0.5\n",
      "0.6869785452266384\n",
      "\n",
      "\n",
      "h value = 1\n",
      "0.6834199893950907\n",
      "\n",
      "\n",
      "h value = 2\n",
      "0.6690632041792908\n",
      "\n",
      "\n"
     ]
    }
   ],
   "source": [
    "## CORRECT VALUES OF S\n",
    "\n",
    "L = 10\n",
    "J = -1\n",
    "OBC = False\n",
    "beta = 0.10\n",
    "hi = [0, 1/2, 1, 2]\n",
    "for h in hi:\n",
    "    print(f\"h value = {h}\")\n",
    "    Es, ns = En(L,J,h,OBC)\n",
    "    ####If lowest energy per site is defined this way it works!!!!!!\n",
    "    Ei = E_th(beta,Es,ns)+np.sum(Es)/2\n",
    "    #Alternatively redefine the Free energy\n",
    "    #(This probably smarter)\n",
    "    Fi = F(beta,Es,ns) #- np.sum(Es)/2\n",
    "\n",
    "\n",
    "    print((Ei*beta-Fi*beta)/L)\n",
    "    #print(ns)\n",
    "    \n",
    "    print(\"\\n\")\n"
   ]
  },
  {
   "cell_type": "markdown",
   "id": "a5708fb5",
   "metadata": {},
   "source": [
    "LINEAR ALGEBRA\n"
   ]
  },
  {
   "cell_type": "code",
   "execution_count": null,
   "id": "2859ec1d",
   "metadata": {},
   "outputs": [],
   "source": [
    "\n",
    "# Inputs: Zb = partition function values, betas = corresponding β values\n",
    "# Both should be numpy arrays of same length\n",
    "\n",
    "def compute_entropy(Zb, betas):\n",
    "    lnZ = np.log(Zb)\n",
    "    dlnZ_dbeta = -np.gradient(lnZ, betas)\n",
    "    S = lnZ + betas * dlnZ_dbeta\n",
    "    return S\n",
    "plt.plot(1/betas,compute_entropy(Zb,betas)/L)\n"
   ]
  },
  {
   "cell_type": "code",
   "execution_count": 674,
   "id": "07fd2707",
   "metadata": {},
   "outputs": [],
   "source": [
    "#LINEAR ALGEBRA\n",
    "bc = [\"ABC\",\"PBC\"]\n",
    "ns = []\n",
    "Es = []\n",
    "L = 100\n",
    "J = 1\n",
    "beta = 100\n",
    "betas = np.linspace(0,10,100)\n",
    "h = 1\n",
    "for p in range(0,2):\n",
    "        boundary_condition = bc[p]\n",
    "        H = sps.H_bdg(h,L,J,boundary_condition)\n",
    "        E, V = la.eigh(H)\n",
    "        U = V.copy()\n",
    "        V = V[:,:L]\n",
    "        E = E[L:]\n",
    "        G = sps.G_tfim(V)\n",
    "\n",
    "        F = G[:L,L:]\n",
    "        G = G[:L,:L]\n",
    "        #####\n",
    "        M = np.eye(L)-2*(G+F)\n",
    "        n = la.det(M)*(-1)**L * (-1)**p\n",
    "        Es.append(E)\n",
    "        ns.append(n)"
   ]
  },
  {
   "cell_type": "code",
   "execution_count": 675,
   "id": "3b13a33f",
   "metadata": {},
   "outputs": [
    {
     "data": {
      "text/plain": [
       "(0.0, 1.0)"
      ]
     },
     "execution_count": 675,
     "metadata": {},
     "output_type": "execute_result"
    },
    {
     "data": {
      "image/png": "[encoded data removed]",
      "text/plain": [
       "<Figure size 640x480 with 1 Axes>"
      ]
     },
     "metadata": {},
     "output_type": "display_data"
    }
   ],
   "source": [
    "sigzz= []\n",
    "Ms = []\n",
    "for beta in betas:\n",
    "    N = [ca(i,beta,Es,ns) for i in range(0,L)]\n",
    "    N+= [ac(i,beta, Es, ns) for i in range(0,L)]\n",
    "\n",
    "    G = U@np.diag(N)@U.T.conj()\n",
    "    F = G[:L,L:]\n",
    "    G = G[:L,:L]\n",
    "    M = np.eye(L)-2*(F+G)\n",
    "    Ms.append(M)\n",
    "\n",
    "    sigzz+= [4*(G[0,0]-1/2)*(G[1,1]-1/2)+4*G[0,1]*(-G[1,0])+4*np.square(F[0,1])]\n",
    "plt.plot(betas,sigzz)\n",
    "#plt.ylim(0,1)\n",
    "plt.xlim(0,1)"
   ]
  },
  {
   "cell_type": "code",
   "execution_count": 676,
   "id": "be8cb35a",
   "metadata": {},
   "outputs": [
    {
     "data": {
      "text/plain": [
       "[<matplotlib.lines.Line2D at 0x79bed16a88c0>]"
      ]
     },
     "execution_count": 676,
     "metadata": {},
     "output_type": "execute_result"
    },
    {
     "data": {
      "image/png": "[encoded data removed]",
      "text/plain": [
       "<Figure size 640x480 with 1 Axes>"
      ]
     },
     "metadata": {},
     "output_type": "display_data"
    }
   ],
   "source": [
    "plt.plot(betas,[Ms[i][0,1] for i in range(len(betas))])"
   ]
  },
  {
   "cell_type": "code",
   "execution_count": 657,
   "id": "4e98c774",
   "metadata": {},
   "outputs": [
    {
     "ename": "SyntaxError",
     "evalue": "invalid syntax (2126612747.py, line 5)",
     "output_type": "error",
     "traceback": [
      "  \u001b[36mCell\u001b[39m\u001b[36m \u001b[39m\u001b[32mIn[657]\u001b[39m\u001b[32m, line 5\u001b[39m\n\u001b[31m    \u001b[39m\u001b[31melse::\u001b[39m\n         ^\n\u001b[31mSyntaxError\u001b[39m\u001b[31m:\u001b[39m invalid syntax\n"
     ]
    }
   ],
   "source": [
    "###Functions\n",
    "def Gn(beta,L,J,h,OBC):\n",
    "    if OBC == True:\n",
    "        bc = [\"OBC\",\"OBC\"]\n",
    "    else::\n",
    "        H = sps.H_bdg(h,L,J,boundary_condition)\n",
    "        E, V = la.eigh(H)\n",
    "        U = V.copy()\n",
    "        Us.append(U)\n",
    "        V = V[:,:L]\n",
    "        E = E[L:]\n",
    "        G = sps.G_tfim(V)\n",
    "\n",
    "        F = G[:L,L:]\n",
    "        G = G[:L,:L]\n",
    "        #####\n",
    "        M = np.eye(L)-2*(G+F)\n",
    "        n = la.det(M)*(-1)**L * (-1)**p\n",
    "        Es.append(E)\n",
    "        ns.append(n)\n",
    "    #Now, calculate Z\n",
    "\n",
    "    Z_p = [Zi(0,beta,Es,ns),Zi(1,beta,Es,ns)]\n",
    "    #calculate correlations\n",
    "\n",
    "    N0 = np.diag([cap(0,mu,beta,Es,ns) for mu in range(L)]+[acp(0,mu,beta,Es,ns) for mu in range(L)])\n",
    "    N1 = np.diag([cap(1,mu,beta,Es,ns) for mu in range(L)]+[acp(1,mu,beta,Es,ns) for mu in range(L)])\n",
    "    #print(N0)\n",
    "    Ns = [N0,N1]\n",
    "\n",
    "    Gs = [Us[p]@Ns[p]@Us[p].T.conj() for p in range(2)]\n",
    "\n",
    "    G = (Z_p[0]*Gs[0]+Z_p[1]*Gs[1])/np.sum(Z_p)\n",
    "\n",
    "    \n",
    "    return  G\n",
    "\n",
    "2*(Gn(1,20,1,100,False)[0,0]-1/2)"
   ]
  },
  {
   "cell_type": "code",
   "execution_count": null,
   "id": "d9342613",
   "metadata": {},
   "outputs": [
    {
     "data": {
      "text/plain": [
       "np.float64(-0.5)"
      ]
     },
     "execution_count": 615,
     "metadata": {},
     "output_type": "execute_result"
    }
   ],
   "source": []
  },
  {
   "cell_type": "code",
   "execution_count": null,
   "id": "661fa9a5",
   "metadata": {},
   "outputs": [],
   "source": []
  }
 ],
 "metadata": {
  "kernelspec": {
   "display_name": "base",
   "language": "python",
   "name": "python3"
  },
  "language_info": {
   "codemirror_mode": {
    "name": "ipython",
    "version": 3
   },
   "file_extension": ".py",
   "mimetype": "text/x-python",
   "name": "python",
   "nbconvert_exporter": "python",
   "pygments_lexer": "ipython3",
   "version": "3.10.14"
  }
 },
 "nbformat": 4,
 "nbformat_minor": 5
}
