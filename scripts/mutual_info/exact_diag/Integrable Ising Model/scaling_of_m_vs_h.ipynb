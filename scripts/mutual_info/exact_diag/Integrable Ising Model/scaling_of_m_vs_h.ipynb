{
 "cells": [
  {
   "cell_type": "markdown",
   "metadata": {},
   "source": [
    "Checking something from 4.78 of QuantuM phase Transitions book\n"
   ]
  },
  {
   "cell_type": "code",
   "execution_count": 239,
   "metadata": {},
   "outputs": [],
   "source": [
    "import sys\n",
    "import os\n",
    "sys.path.append(\"../../../../src/\")\n",
    "#Imports\n",
    "import single_particle_sector as sps\n",
    "import numpy as np\n",
    "import scipy as sp\n",
    "import numpy.linalg as la\n",
    "import matplotlib.pyplot as plt\n",
    "from matplotlib.pyplot import plot, scatter"
   ]
  },
  {
   "cell_type": "code",
   "execution_count": 240,
   "metadata": {},
   "outputs": [],
   "source": [
    "#Ground State Fidelity\n",
    "def overlap(U,V):\n",
    "    L = U.shape[0]//2\n",
    "    U = U[:,:L]\n",
    "    V = V[:,:L]\n",
    "    overlap_matrix = U.conj().T @ V\n",
    "    return la.det(overlap_matrix)\n",
    "def evolve_TFIM_states(taus, N_steps, h0, hf, J, L):\n",
    "    Ut_tau = []\n",
    "    GS_T_tau = []\n",
    "    times_tau = []\n",
    "\n",
    "    for tau in taus:\n",
    "        times = np.linspace(0, tau, N_steps)\n",
    "        Ut = sps.TFIM_time_evolve(N_steps, tau, h0, hf, J, L)\n",
    "\n",
    "        GS_T = []\n",
    "        for ti in range(N_steps):\n",
    "            h = sps.h_t(times[ti], tau, h0, hf)\n",
    "            H = sps.H_bdg(h, L, J)\n",
    "            _, V = la.eigh(H)\n",
    "            GS_T.append(V)\n",
    "\n",
    "        Ut_tau.append(Ut)\n",
    "        GS_T_tau.append(GS_T)\n",
    "        times_tau.append(times)\n",
    "\n",
    "    return Ut_tau, GS_T_tau, times_tau\n",
    "\n"
   ]
  },
  {
   "cell_type": "code",
   "execution_count": 241,
   "metadata": {},
   "outputs": [
    {
     "name": "stderr",
     "output_type": "stream",
     "text": [
      "/home/kristian/miniconda3/lib/python3.12/site-packages/scipy/integrate/_ivp/ivp.py:621: UserWarning: The following arguments have no effect for a chosen solver: `dtype`.\n",
      "  solver = method(fun, t0, y0, tf, vectorized=vectorized, **options)\n"
     ]
    },
    {
     "ename": "KeyboardInterrupt",
     "evalue": "",
     "output_type": "error",
     "traceback": [
      "\u001b[31m---------------------------------------------------------------------------\u001b[39m",
      "\u001b[31mKeyboardInterrupt\u001b[39m                         Traceback (most recent call last)",
      "\u001b[36mCell\u001b[39m\u001b[36m \u001b[39m\u001b[32mIn[241]\u001b[39m\u001b[32m, line 10\u001b[39m\n\u001b[32m      7\u001b[39m N_steps = \u001b[32m500\u001b[39m\n\u001b[32m      9\u001b[39m \u001b[38;5;66;03m#Time Evolved States:\u001b[39;00m\n\u001b[32m---> \u001b[39m\u001b[32m10\u001b[39m Ut_tau,GS_T_tau,times_tau= \u001b[43mevolve_TFIM_states\u001b[49m\u001b[43m(\u001b[49m\u001b[43mtaus\u001b[49m\u001b[43m,\u001b[49m\u001b[43m \u001b[49m\u001b[43mN_steps\u001b[49m\u001b[43m,\u001b[49m\u001b[43m \u001b[49m\u001b[43mh0\u001b[49m\u001b[43m,\u001b[49m\u001b[43m \u001b[49m\u001b[43mhf\u001b[49m\u001b[43m,\u001b[49m\u001b[43m \u001b[49m\u001b[43mJ\u001b[49m\u001b[43m,\u001b[49m\u001b[43m \u001b[49m\u001b[43mL\u001b[49m\u001b[43m)\u001b[49m;\n",
      "\u001b[36mCell\u001b[39m\u001b[36m \u001b[39m\u001b[32mIn[240]\u001b[39m\u001b[32m, line 15\u001b[39m, in \u001b[36mevolve_TFIM_states\u001b[39m\u001b[34m(taus, N_steps, h0, hf, J, L)\u001b[39m\n\u001b[32m     13\u001b[39m \u001b[38;5;28;01mfor\u001b[39;00m tau \u001b[38;5;129;01min\u001b[39;00m taus:\n\u001b[32m     14\u001b[39m     times = np.linspace(\u001b[32m0\u001b[39m, tau, N_steps)\n\u001b[32m---> \u001b[39m\u001b[32m15\u001b[39m     Ut = \u001b[43msps\u001b[49m\u001b[43m.\u001b[49m\u001b[43mTFIM_time_evolve\u001b[49m\u001b[43m(\u001b[49m\u001b[43mN_steps\u001b[49m\u001b[43m,\u001b[49m\u001b[43m \u001b[49m\u001b[43mtau\u001b[49m\u001b[43m,\u001b[49m\u001b[43m \u001b[49m\u001b[43mh0\u001b[49m\u001b[43m,\u001b[49m\u001b[43m \u001b[49m\u001b[43mhf\u001b[49m\u001b[43m,\u001b[49m\u001b[43m \u001b[49m\u001b[43mJ\u001b[49m\u001b[43m,\u001b[49m\u001b[43m \u001b[49m\u001b[43mL\u001b[49m\u001b[43m)\u001b[49m\n\u001b[32m     17\u001b[39m     GS_T = []\n\u001b[32m     18\u001b[39m     \u001b[38;5;28;01mfor\u001b[39;00m ti \u001b[38;5;129;01min\u001b[39;00m \u001b[38;5;28mrange\u001b[39m(N_steps):\n",
      "\u001b[36mFile \u001b[39m\u001b[32m~/Desktop/Subsystem Loschmidt Echo/subsystem_loschmidt_echo/scripts/mutual_info/exact_diag/Integrable Ising Model/../../../../src/single_particle_sector.py:356\u001b[39m, in \u001b[36mTFIM_time_evolve\u001b[39m\u001b[34m(N_steps, tau, h0, hf, J, L, U0, bc)\u001b[39m\n\u001b[32m    354\u001b[39m args = (h_t,tau,h0,hf,J,bc)\n\u001b[32m    355\u001b[39m t_grid = np.linspace(\u001b[32m0\u001b[39m,tau,N_steps)\n\u001b[32m--> \u001b[39m\u001b[32m356\u001b[39m sol = \u001b[43msolve_ivp\u001b[49m\u001b[43m(\u001b[49m\u001b[43mrhs\u001b[49m\u001b[43m,\u001b[49m\u001b[43m \u001b[49m\u001b[43m[\u001b[49m\u001b[32;43m0\u001b[39;49m\u001b[43m,\u001b[49m\u001b[43m \u001b[49m\u001b[43mtau\u001b[49m\u001b[43m]\u001b[49m\u001b[43m,\u001b[49m\u001b[43m \u001b[49m\u001b[43mU0\u001b[49m\u001b[43m.\u001b[49m\u001b[43mflatten\u001b[49m\u001b[43m(\u001b[49m\u001b[43m)\u001b[49m\u001b[43m,\u001b[49m\u001b[43m \u001b[49m\u001b[43margs\u001b[49m\u001b[43m=\u001b[49m\u001b[43margs\u001b[49m\u001b[43m,\u001b[49m\u001b[43m \u001b[49m\u001b[43mt_eval\u001b[49m\u001b[43m=\u001b[49m\u001b[43mt_grid\u001b[49m\u001b[43m,\u001b[49m\u001b[43m \u001b[49m\u001b[43mmethod\u001b[49m\u001b[43m=\u001b[49m\u001b[33;43m\"\u001b[39;49m\u001b[33;43mRK45\u001b[39;49m\u001b[33;43m\"\u001b[39;49m\u001b[43m,\u001b[49m\u001b[43m \u001b[49m\u001b[43mvectorized\u001b[49m\u001b[43m=\u001b[49m\u001b[38;5;28;43;01mFalse\u001b[39;49;00m\u001b[43m,\u001b[49m\u001b[43m \u001b[49m\u001b[43mdtype\u001b[49m\u001b[43m=\u001b[49m\u001b[43mnp\u001b[49m\u001b[43m.\u001b[49m\u001b[43mcomplex128\u001b[49m\u001b[43m)\u001b[49m\n\u001b[32m    359\u001b[39m U_t = np.array([sol.y[:, i].reshape(\u001b[32m2\u001b[39m*L, \u001b[32m2\u001b[39m*L) \u001b[38;5;28;01mfor\u001b[39;00m i \u001b[38;5;129;01min\u001b[39;00m \u001b[38;5;28mrange\u001b[39m(\u001b[38;5;28mlen\u001b[39m(sol.t))])\n\u001b[32m    360\u001b[39m \u001b[38;5;66;03m#print(sol.message)\u001b[39;00m\n",
      "\u001b[36mFile \u001b[39m\u001b[32m~/miniconda3/lib/python3.12/site-packages/scipy/integrate/_ivp/ivp.py:655\u001b[39m, in \u001b[36msolve_ivp\u001b[39m\u001b[34m(fun, t_span, y0, method, t_eval, dense_output, events, vectorized, args, **options)\u001b[39m\n\u001b[32m    653\u001b[39m status = \u001b[38;5;28;01mNone\u001b[39;00m\n\u001b[32m    654\u001b[39m \u001b[38;5;28;01mwhile\u001b[39;00m status \u001b[38;5;129;01mis\u001b[39;00m \u001b[38;5;28;01mNone\u001b[39;00m:\n\u001b[32m--> \u001b[39m\u001b[32m655\u001b[39m     message = \u001b[43msolver\u001b[49m\u001b[43m.\u001b[49m\u001b[43mstep\u001b[49m\u001b[43m(\u001b[49m\u001b[43m)\u001b[49m\n\u001b[32m    657\u001b[39m     \u001b[38;5;28;01mif\u001b[39;00m solver.status == \u001b[33m'\u001b[39m\u001b[33mfinished\u001b[39m\u001b[33m'\u001b[39m:\n\u001b[32m    658\u001b[39m         status = \u001b[32m0\u001b[39m\n",
      "\u001b[36mFile \u001b[39m\u001b[32m~/miniconda3/lib/python3.12/site-packages/scipy/integrate/_ivp/base.py:197\u001b[39m, in \u001b[36mOdeSolver.step\u001b[39m\u001b[34m(self)\u001b[39m\n\u001b[32m    195\u001b[39m \u001b[38;5;28;01melse\u001b[39;00m:\n\u001b[32m    196\u001b[39m     t = \u001b[38;5;28mself\u001b[39m.t\n\u001b[32m--> \u001b[39m\u001b[32m197\u001b[39m     success, message = \u001b[38;5;28;43mself\u001b[39;49m\u001b[43m.\u001b[49m\u001b[43m_step_impl\u001b[49m\u001b[43m(\u001b[49m\u001b[43m)\u001b[49m\n\u001b[32m    199\u001b[39m     \u001b[38;5;28;01mif\u001b[39;00m \u001b[38;5;129;01mnot\u001b[39;00m success:\n\u001b[32m    200\u001b[39m         \u001b[38;5;28mself\u001b[39m.status = \u001b[33m'\u001b[39m\u001b[33mfailed\u001b[39m\u001b[33m'\u001b[39m\n",
      "\u001b[36mFile \u001b[39m\u001b[32m~/miniconda3/lib/python3.12/site-packages/scipy/integrate/_ivp/rk.py:144\u001b[39m, in \u001b[36mRungeKutta._step_impl\u001b[39m\u001b[34m(self)\u001b[39m\n\u001b[32m    141\u001b[39m h = t_new - t\n\u001b[32m    142\u001b[39m h_abs = np.abs(h)\n\u001b[32m--> \u001b[39m\u001b[32m144\u001b[39m y_new, f_new = \u001b[43mrk_step\u001b[49m\u001b[43m(\u001b[49m\u001b[38;5;28;43mself\u001b[39;49m\u001b[43m.\u001b[49m\u001b[43mfun\u001b[49m\u001b[43m,\u001b[49m\u001b[43m \u001b[49m\u001b[43mt\u001b[49m\u001b[43m,\u001b[49m\u001b[43m \u001b[49m\u001b[43my\u001b[49m\u001b[43m,\u001b[49m\u001b[43m \u001b[49m\u001b[38;5;28;43mself\u001b[39;49m\u001b[43m.\u001b[49m\u001b[43mf\u001b[49m\u001b[43m,\u001b[49m\u001b[43m \u001b[49m\u001b[43mh\u001b[49m\u001b[43m,\u001b[49m\u001b[43m \u001b[49m\u001b[38;5;28;43mself\u001b[39;49m\u001b[43m.\u001b[49m\u001b[43mA\u001b[49m\u001b[43m,\u001b[49m\n\u001b[32m    145\u001b[39m \u001b[43m                       \u001b[49m\u001b[38;5;28;43mself\u001b[39;49m\u001b[43m.\u001b[49m\u001b[43mB\u001b[49m\u001b[43m,\u001b[49m\u001b[43m \u001b[49m\u001b[38;5;28;43mself\u001b[39;49m\u001b[43m.\u001b[49m\u001b[43mC\u001b[49m\u001b[43m,\u001b[49m\u001b[43m \u001b[49m\u001b[38;5;28;43mself\u001b[39;49m\u001b[43m.\u001b[49m\u001b[43mK\u001b[49m\u001b[43m)\u001b[49m\n\u001b[32m    146\u001b[39m scale = atol + np.maximum(np.abs(y), np.abs(y_new)) * rtol\n\u001b[32m    147\u001b[39m error_norm = \u001b[38;5;28mself\u001b[39m._estimate_error_norm(\u001b[38;5;28mself\u001b[39m.K, h, scale)\n",
      "\u001b[36mFile \u001b[39m\u001b[32m~/miniconda3/lib/python3.12/site-packages/scipy/integrate/_ivp/rk.py:66\u001b[39m, in \u001b[36mrk_step\u001b[39m\u001b[34m(fun, t, y, f, h, A, B, C, K)\u001b[39m\n\u001b[32m     63\u001b[39m     dy = np.dot(K[:s].T, a[:s]) * h\n\u001b[32m     64\u001b[39m     K[s] = fun(t + c * h, y + dy)\n\u001b[32m---> \u001b[39m\u001b[32m66\u001b[39m y_new = y + h * \u001b[43mnp\u001b[49m\u001b[43m.\u001b[49m\u001b[43mdot\u001b[49m\u001b[43m(\u001b[49m\u001b[43mK\u001b[49m\u001b[43m[\u001b[49m\u001b[43m:\u001b[49m\u001b[43m-\u001b[49m\u001b[32;43m1\u001b[39;49m\u001b[43m]\u001b[49m\u001b[43m.\u001b[49m\u001b[43mT\u001b[49m\u001b[43m,\u001b[49m\u001b[43m \u001b[49m\u001b[43mB\u001b[49m\u001b[43m)\u001b[49m\n\u001b[32m     67\u001b[39m f_new = fun(t + h, y_new)\n\u001b[32m     69\u001b[39m K[-\u001b[32m1\u001b[39m] = f_new\n",
      "\u001b[31mKeyboardInterrupt\u001b[39m: "
     ]
    }
   ],
   "source": [
    "#Model Parameters\n",
    "L = 30\n",
    "J = -1\n",
    "h0 = 0\n",
    "hf = 5\n",
    "taus = np.linspace(1,500,25)\n",
    "N_steps = 500\n",
    "\n",
    "#Time Evolved States:\n",
    "Ut_tau,GS_T_tau,times_tau= evolve_TFIM_states(taus, N_steps, h0, hf, J, L);"
   ]
  },
  {
   "cell_type": "code",
   "execution_count": null,
   "metadata": {},
   "outputs": [
    {
     "name": "stderr",
     "output_type": "stream",
     "text": [
      "/home/kristian/Desktop/Subsystem Loschmidt Echo/subsystem_loschmidt_echo/scripts/mutual_info/exact_diag/Integrable Ising Model/../../../../src/single_particle_sector.py:184: ComplexWarning: Casting complex values to real discards the imaginary part\n",
      "  C[nx,ny] = M[Bx,Ay]\n"
     ]
    }
   ],
   "source": [
    "#i = time step\n",
    "p_gs= []\n",
    "p_t = []\n",
    "for j in range(0,len(taus)):\n",
    "    G_t =sps.G_tfim(Ut_tau[j][-1][:,:L])\n",
    "    G_gs =sps.G_tfim(GS_T_tau[j][-1][:, :L])\n",
    "    #fidelity = [np.abs(overlap(Ut_tau[j][ti],GS_T_tau[j][0]))**2 for ti in range(N_steps)]\n",
    "    p_t +=[sps.sigma_general([0,1],G_t,L)]\n",
    "    p_gs+=[sps.sigma_general([0,1],G_gs,L)]\n",
    "\n",
    "\n",
    "p_gs = np.array(p_gs)\n",
    "p_t = np.array(p_t)\n"
   ]
  },
  {
   "cell_type": "code",
   "execution_count": 50,
   "metadata": {},
   "outputs": [
    {
     "data": {
      "text/plain": [
       "[<matplotlib.lines.Line2D at 0x754bcad50590>]"
      ]
     },
     "execution_count": 50,
     "metadata": {},
     "output_type": "execute_result"
    },
    {
     "data": {
      "image/png": "[encoded data removed]",
      "text/plain": [
       "<Figure size 640x480 with 1 Axes>"
      ]
     },
     "metadata": {},
     "output_type": "display_data"
    }
   ],
   "source": [
    "plt.plot(taus,1-p_t)\n",
    "plt.plot(taus,1-1/np.sqrt(2*taus))\n",
    "#plt.vlines(L**2/(2),0,1)\n"
   ]
  },
  {
   "cell_type": "code",
   "execution_count": 242,
   "metadata": {},
   "outputs": [],
   "source": [
    "def h(t,tau):\n",
    "    return 5*(1-t/tau)\n",
    "\n"
   ]
  },
  {
   "cell_type": "code",
   "execution_count": 243,
   "metadata": {},
   "outputs": [],
   "source": [
    "from scipy.integrate import solve_ivp\n",
    "import numpy as np\n",
    "\n",
    "# Define RHS\n",
    "def rhs(t, X, k, J, h, tau):\n",
    "    u, v = X\n",
    "    hi = h(t, tau)\n",
    "    du = -1j * (2 * J * (hi - np.cos(k)) * u + 2 * J * np.sin(k) * v)\n",
    "    dv = -1j * (-2 * J * (hi - np.cos(k)) * v + 2 * J * np.sin(k) * u)\n",
    "    return [du, dv]\n",
    "\n",
    "L = 20\n",
    "J = -1.0\n",
    "taus = np.linspace(.1,50,50)\n",
    "k_vals = 2 * np.pi * (np.arange(-L//2, L//2) + 0.5) / L    \n",
    "\n",
    "\n",
    "\n",
    "donttrust = []\n",
    "for tau in taus:\n",
    "    t_span = (0, tau)\n",
    "    t_eval = np.linspace(*t_span, 1000)\n",
    "    y0 = np.array([1.0, 0.0], dtype=complex)\n",
    "    # Solve\n",
    "    uv = []\n",
    "    for k in k_vals:\n",
    "        sol = solve_ivp(rhs, t_span, y0, t_eval=t_eval, args=(k, J, h, tau))\n",
    "        u = sol.y[0][-1]\n",
    "        v = sol.y[1][-1]\n",
    "        uv.append((u,v))\n",
    "\n",
    "    donttrust.append(uv)"
   ]
  },
  {
   "cell_type": "code",
   "execution_count": 244,
   "metadata": {},
   "outputs": [
    {
     "data": {
      "text/plain": [
       "array([ 0.99691733, -0.0784591 ])"
      ]
     },
     "execution_count": 244,
     "metadata": {},
     "output_type": "execute_result"
    }
   ],
   "source": [
    "def positive_energy_spinor(k, g):\n",
    "    uk = (g - np.cos(k)) + np.sqrt(g**2 - 2*g*np.cos(k) + 1)\n",
    "    vk = np.sin(k)\n",
    "    norm = np.sqrt(np.abs(uk)**2 + np.abs(vk)**2)\n",
    "    return np.array([uk, vk]) / norm\n",
    "\n",
    "positive_energy_spinor(k_vals[0],0)"
   ]
  },
  {
   "cell_type": "code",
   "execution_count": 245,
   "metadata": {},
   "outputs": [],
   "source": [
    "dat= []\n",
    "for j in range(len(taus)):\n",
    "    d = []\n",
    "    for i in range(len(k_vals)):\n",
    "        uv = donttrust[j][i]\n",
    "        x = positive_energy_spinor(k_vals[i],0)\n",
    "\n",
    "        beta_k = np.abs(np.vdot(x,uv))**2\n",
    "\n",
    "        d+= [beta_k]\n",
    "\n",
    "    dat.append(np.sum(d)/L)"
   ]
  },
  {
   "cell_type": "code",
   "execution_count": 248,
   "metadata": {},
   "outputs": [
    {
     "data": {
      "text/plain": [
       "[<matplotlib.lines.Line2D at 0x754bb7145280>]"
      ]
     },
     "execution_count": 248,
     "metadata": {},
     "output_type": "execute_result"
    },
    {
     "data": {
      "image/png": "[encoded data removed]",
      "text/plain": [
       "<Figure size 640x480 with 1 Axes>"
      ]
     },
     "metadata": {},
     "output_type": "display_data"
    }
   ],
   "source": [
    "plt.plot(taus,dat)\n",
    "plt.plot(taus,1-1/np.sqrt(taus)/np.pi)\n",
    "#plt.hlines(1-np.exp(-2*np.pi**3*taus[-1]/L/L),0,100)"
   ]
  },
  {
   "cell_type": "code",
   "execution_count": 235,
   "metadata": {},
   "outputs": [],
   "source": [
    "import numpy as np\n",
    "import matplotlib.pyplot as plt\n",
    "\n",
    "# Parameters\n",
    "L = 100\n",
    "J = 1.0\n",
    "h = 0.5\n",
    "k_vals = 2 * np.pi * (np.arange(L // 2) + 0.5) / L\n",
    "\n",
    "# Arrays to store Bogoliubov coefficients\n",
    "u_k = np.zeros(L // 2, dtype=complex)\n",
    "v_k = np.zeros(L // 2, dtype=complex)\n",
    "\n",
    "for i, k in enumerate(k_vals):\n",
    "    eps_k = 2 * J * (h - np.cos(k))\n",
    "    delta_k = 2 * J * np.sin(k)\n",
    "    E_k = np.sqrt(eps_k**2 + delta_k**2)\n",
    "\n",
    "    # Normalized eigenvector for positive energy eigenstate\n",
    "    u = np.sqrt(0.5 * (1 + eps_k / E_k))\n",
    "    v = -np.sign(delta_k) * np.sqrt(0.5 * (1 - eps_k / E_k))\n",
    "\n",
    "    u_k[i] = u\n",
    "    v_k[i] = v\n",
    "\n",
    "# c_k = u_k * gamma_k + v_k * gamma_{-k}^\\dagger for each k\n"
   ]
  },
  {
   "cell_type": "code",
   "execution_count": null,
   "metadata": {},
   "outputs": [
    {
     "data": {
      "text/plain": [
       "array([9.99014336e-01-0.j, 9.91221032e-01-0.j, 9.76105918e-01-0.j,\n",
       "       9.54527084e-01-0.j, 9.27588524e-01-0.j, 8.96486265e-01-0.j,\n",
       "       8.62377980e-01-0.j, 8.26295234e-01-0.j, 7.89099930e-01-0.j,\n",
       "       7.51475650e-01-0.j, 7.13941163e-01-0.j, 6.76874880e-01-0.j,\n",
       "       6.40542319e-01-0.j, 6.05122015e-01-0.j, 5.70727724e-01-0.j,\n",
       "       5.37426347e-01-0.j, 5.05251816e-01-0.j, 4.74215519e-01-0.j,\n",
       "       4.44313959e-01-0.j, 4.15534256e-01-0.j, 3.87858038e-01-0.j,\n",
       "       3.61264134e-01-0.j, 3.35730404e-01-0.j, 3.11234949e-01-0.j,\n",
       "       2.87756867e-01-0.j, 2.65276721e-01-0.j, 2.43776771e-01-0.j,\n",
       "       2.23241079e-01-0.j, 2.03655503e-01-0.j, 1.85007637e-01-0.j,\n",
       "       1.67286708e-01-0.j, 1.50483448e-01-0.j, 1.34589965e-01-0.j,\n",
       "       1.19599601e-01-0.j, 1.05506794e-01-0.j, 9.23069521e-02-0.j,\n",
       "       7.99963257e-02-0.j, 6.85718953e-02-0.j, 5.80312649e-02-0.j,\n",
       "       4.83725662e-02-0.j, 3.95943714e-02-0.j, 3.16956154e-02-0.j,\n",
       "       2.46755264e-02-0.j, 1.85335646e-02-0.j, 1.32693695e-02-0.j,\n",
       "       8.88271427e-03-0.j, 5.37346683e-03-0.j, 2.74155884e-03-0.j,\n",
       "       9.86960536e-04-0.j, 1.09662271e-04-0.j])"
      ]
     },
     "execution_count": 237,
     "metadata": {},
     "output_type": "execute_result"
    }
   ],
   "source": [
    "v_k"
   ]
  },
  {
   "cell_type": "code",
   "execution_count": null,
   "metadata": {},
   "outputs": [],
   "source": []
  }
 ],
 "metadata": {
  "kernelspec": {
   "display_name": "base",
   "language": "python",
   "name": "python3"
  },
  "language_info": {
   "codemirror_mode": {
    "name": "ipython",
    "version": 3
   },
   "file_extension": ".py",
   "mimetype": "text/x-python",
   "name": "python",
   "nbconvert_exporter": "python",
   "pygments_lexer": "ipython3",
   "version": "3.12.3"
  }
 },
 "nbformat": 4,
 "nbformat_minor": 2
}
