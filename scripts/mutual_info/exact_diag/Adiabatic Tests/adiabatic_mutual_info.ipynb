{
 "cells": [
  {
   "cell_type": "code",
   "execution_count": 1,
   "id": "e2243bac",
   "metadata": {},
   "outputs": [],
   "source": [
    "import sys\n",
    "import os\n",
    "sys.path.append(\"../../../../src/\")\n",
    "#Imports\n",
    "import numpy as np\n",
    "import scipy as sp\n",
    "import numpy.linalg as la\n",
    "import matplotlib.pyplot as plt\n",
    "#Custom made imports\n",
    "import single_particle_sector as sps\n",
    "from time import time\n"
   ]
  },
  {
   "cell_type": "code",
   "execution_count": 2,
   "id": "c5c3bff5",
   "metadata": {},
   "outputs": [
    {
     "name": "stdout",
     "output_type": "stream",
     "text": [
      "<class 'numpy.ndarray'>\n",
      "<class 'numpy.ndarray'>\n",
      "<class 'numpy.ndarray'>\n",
      "<class 'numpy.ndarray'>\n",
      "<class 'numpy.ndarray'>\n"
     ]
    },
    {
     "name": "stderr",
     "output_type": "stream",
     "text": [
      "/home/kristian/miniconda3/lib/python3.12/site-packages/scipy/integrate/_ivp/ivp.py:621: UserWarning: The following arguments have no effect for a chosen solver: `dtype`.\n",
      "  solver = method(fun, t0, y0, tf, vectorized=vectorized, **options)\n"
     ]
    }
   ],
   "source": [
    "#Ground State Fidelity\n",
    "def overlap(U,V):\n",
    "    L = U.shape[0]//2\n",
    "    U = U[:,:L]\n",
    "    V = V[:,:L]\n",
    "    overlap_matrix = U.conj().T @ V\n",
    "    return la.det(overlap_matrix)\n",
    "#Model Parameters\n",
    "L = 10\n",
    "J = -1\n",
    "h0 = 0\n",
    "hf = 2\n",
    "taus = [1,5,10,25,100]\n",
    "N_steps = 100\n",
    "#Time Evolved States:\n",
    "Ut_tau = []\n",
    "GS_T_tau = []\n",
    "times_tau =[]\n",
    "for tau in taus:\n",
    "    times = np.linspace(0,tau,N_steps)\n",
    "\n",
    "    Ut = sps.TFIM_time_evolve(N_steps,tau,h0,hf,J,L)\n",
    "    #Ground States\n",
    "    GS_T = []\n",
    "    for ti in range(N_steps):\n",
    "        h = sps.h_t(times[ti],tau,h0,hf)\n",
    "        H = sps.H_bdg(h,L,J)\n",
    "        E,V = la.eigh(H)\n",
    "        GS_T.append(V)\n",
    "    Ut_tau.append(Ut)\n",
    "    GS_T_tau.append(GS_T)\n",
    "    times_tau.append(times)"
   ]
  },
  {
   "cell_type": "code",
   "execution_count": 3,
   "id": "ced2be6d",
   "metadata": {},
   "outputs": [
    {
     "ename": "IndexError",
     "evalue": "index 10 is out of bounds for axis 1 with size 10",
     "output_type": "error",
     "traceback": [
      "\u001b[31m---------------------------------------------------------------------------\u001b[39m",
      "\u001b[31mIndexError\u001b[39m                                Traceback (most recent call last)",
      "\u001b[36mCell\u001b[39m\u001b[36m \u001b[39m\u001b[32mIn[3]\u001b[39m\u001b[32m, line 9\u001b[39m\n\u001b[32m      7\u001b[39m G_gs = [sps.G_tfim(GS_T_tau[j][ti][:, :L]) \u001b[38;5;28;01mfor\u001b[39;00m ti \u001b[38;5;129;01min\u001b[39;00m \u001b[38;5;28mrange\u001b[39m(N_steps)]\n\u001b[32m      8\u001b[39m fidelity = np.array([np.abs(overlap(Ut_tau[j][ti],GS_T_tau[j][\u001b[32m0\u001b[39m]))**\u001b[32m2\u001b[39m \u001b[38;5;28;01mfor\u001b[39;00m ti \u001b[38;5;129;01min\u001b[39;00m \u001b[38;5;28mrange\u001b[39m(N_steps)])\n\u001b[32m----> \u001b[39m\u001b[32m9\u001b[39m P10 = np.array([\u001b[43msps\u001b[49m\u001b[43m.\u001b[49m\u001b[43mP_n\u001b[49m\u001b[43m(\u001b[49m\u001b[32;43m10\u001b[39;49m\u001b[43m,\u001b[49m\u001b[43mGi\u001b[49m\u001b[43m,\u001b[49m\u001b[43mL\u001b[49m\u001b[43m)\u001b[49m \u001b[38;5;28;01mfor\u001b[39;00m Gi \u001b[38;5;129;01min\u001b[39;00m G_gs])\n\u001b[32m     10\u001b[39m \u001b[38;5;28;01mfor\u001b[39;00m n \u001b[38;5;129;01min\u001b[39;00m ns:\n\u001b[32m     11\u001b[39m     \u001b[38;5;28mprint\u001b[39m(n)\n",
      "\u001b[36mFile \u001b[39m\u001b[32m~/Desktop/Subsystem Loschmidt Echo/subsystem_loschmidt_echo/scripts/mutual_info/exact_diag/Adiabatic Tests/../../../../src/single_particle_sector.py:288\u001b[39m, in \u001b[36mP_n\u001b[39m\u001b[34m(n, G, L)\u001b[39m\n\u001b[32m    285\u001b[39m \u001b[38;5;66;03m##\u001b[39;00m\n\u001b[32m    287\u001b[39m \u001b[38;5;28;01mfor\u001b[39;00m term \u001b[38;5;129;01min\u001b[39;00m \u001b[38;5;28mrange\u001b[39m(\u001b[38;5;28mlen\u001b[39m(vecs)):\n\u001b[32m--> \u001b[39m\u001b[32m288\u001b[39m     dat.append(\u001b[43msigma_general\u001b[49m\u001b[43m(\u001b[49m\u001b[43mvecs\u001b[49m\u001b[43m[\u001b[49m\u001b[43mterm\u001b[49m\u001b[43m]\u001b[49m\u001b[43m,\u001b[49m\u001b[43mG\u001b[49m\u001b[43m,\u001b[49m\u001b[43mL\u001b[49m\u001b[43m)\u001b[49m*counts[term])\n\u001b[32m    289\u001b[39m dat.append(sigma_general([],G,L))\n\u001b[32m    291\u001b[39m \u001b[38;5;66;03m#All terms have equal weight. \u001b[39;00m\n",
      "\u001b[36mFile \u001b[39m\u001b[32m~/Desktop/Subsystem Loschmidt Echo/subsystem_loschmidt_echo/scripts/mutual_info/exact_diag/Adiabatic Tests/../../../../src/single_particle_sector.py:147\u001b[39m, in \u001b[36msigma_general\u001b[39m\u001b[34m(indices, Gi, L)\u001b[39m\n\u001b[32m    145\u001b[39m     constant = L//\u001b[32m2\u001b[39m\n\u001b[32m    146\u001b[39m     indices = \u001b[38;5;28mlist\u001b[39m(indices) + [x + constant \u001b[38;5;28;01mfor\u001b[39;00m x \u001b[38;5;129;01min\u001b[39;00m indices]\n\u001b[32m--> \u001b[39m\u001b[32m147\u001b[39m     \u001b[38;5;28;01mreturn\u001b[39;00m np.sqrt(np.abs(\u001b[43msigma_general\u001b[49m\u001b[43m(\u001b[49m\u001b[43mindices\u001b[49m\u001b[43m,\u001b[49m\u001b[43mGi\u001b[49m\u001b[43m,\u001b[49m\u001b[43mL\u001b[49m\u001b[43m)\u001b[49m))\n\u001b[32m    149\u001b[39m \u001b[38;5;66;03m#Bs sit on odd sites\u001b[39;00m\n\u001b[32m    150\u001b[39m odd_sites = np.array(indices[::\u001b[32m2\u001b[39m])\n",
      "\u001b[36mFile \u001b[39m\u001b[32m~/Desktop/Subsystem Loschmidt Echo/subsystem_loschmidt_echo/scripts/mutual_info/exact_diag/Adiabatic Tests/../../../../src/single_particle_sector.py:174\u001b[39m, in \u001b[36msigma_general\u001b[39m\u001b[34m(indices, Gi, L)\u001b[39m\n\u001b[32m    171\u001b[39m         Bx = B_coords[nx]\n\u001b[32m    172\u001b[39m         Ay = A_coords[ny]\n\u001b[32m--> \u001b[39m\u001b[32m174\u001b[39m         C[nx,ny] = \u001b[43mM\u001b[49m\u001b[43m[\u001b[49m\u001b[43mBx\u001b[49m\u001b[43m,\u001b[49m\u001b[43mAy\u001b[49m\u001b[43m]\u001b[49m\n\u001b[32m    176\u001b[39m \u001b[38;5;28;01mreturn\u001b[39;00m la.det(C)\n",
      "\u001b[31mIndexError\u001b[39m: index 10 is out of bounds for axis 1 with size 10"
     ]
    },
    {
     "data": {
      "text/plain": [
       "<Figure size 640x480 with 0 Axes>"
      ]
     },
     "metadata": {},
     "output_type": "display_data"
    }
   ],
   "source": [
    "ns = [1,2,3,4,5]\n",
    "\n",
    "\n",
    "for j in range(1,len(taus)):\n",
    "    plt.figure()    \n",
    "    G_t =[sps.G_tfim(Ut_tau[j][ti][:,:L]) for ti in range(N_steps) ]\n",
    "    G_gs = [sps.G_tfim(GS_T_tau[j][ti][:, :L]) for ti in range(N_steps)]\n",
    "    fidelity = np.array([np.abs(overlap(Ut_tau[j][ti],GS_T_tau[j][0]))**2 for ti in range(N_steps)])\n",
    "    P10 = np.array([sps.P_n(10,Gi,L) for Gi in G_gs])\n",
    "    for n in ns:\n",
    "        print(n)\n",
    "        P_t_n = np.array([sps.P_n(n,Gi,L) for Gi in G_t])\n",
    "        P_gs_n= np.array([sps.P_n(n,Gi,L) for Gi in G_gs])\n",
    "     #   P_t_2n = np.array([sps.P_n(2*n,Gi,L) for Gi in G_t])\n",
    "      #  P_gs_2n= np.array([sps.P_n(2*n,Gi,L) for Gi in G_gs])\n",
    "\n",
    "       # I_t = np.log(P_t_2n/P_t_n**2)\n",
    "        #I_gs= np.log(P_gs_2n/P_gs_n**2)\n",
    "\n",
    "\n",
    "        plt.scatter(times_tau[j][::10],P_gs_n[::10], s = 5)\n",
    "        plt.plot(times_tau[j],P_t_n, label = f\"{n}\")\n",
    "\n",
    "\n",
    "    ##Plotting\n",
    "\n",
    "    \n",
    "    \n",
    "    plt.plot(times_tau[j],(fidelity/2), label =f\"Fidelity\", color = \"black\",linestyle=\"--\" )\n",
    "    plt.plot(times_tau[j],P10, label =f\"Fidelity\", color = \"black\" )\n",
    "\n",
    "    plt.title(f\" L = {L}, tau = {taus[j]}\")\n",
    "\n",
    "    plt.legend()\n",
    "    plt.xlim(times_tau[j][0],times_tau[j][-1])\n",
    "    plt.ylim(0,1)\n",
    "    #plt.savefig(f\"tau={taus[j]}.png\")\n",
    "    plt.show()"
   ]
  },
  {
   "cell_type": "code",
   "execution_count": null,
   "id": "f2d43d6b",
   "metadata": {},
   "outputs": [],
   "source": []
  }
 ],
 "metadata": {
  "kernelspec": {
   "display_name": "base",
   "language": "python",
   "name": "python3"
  },
  "language_info": {
   "codemirror_mode": {
    "name": "ipython",
    "version": 3
   },
   "file_extension": ".py",
   "mimetype": "text/x-python",
   "name": "python",
   "nbconvert_exporter": "python",
   "pygments_lexer": "ipython3",
   "version": "3.12.3"
  }
 },
 "nbformat": 4,
 "nbformat_minor": 5
}
