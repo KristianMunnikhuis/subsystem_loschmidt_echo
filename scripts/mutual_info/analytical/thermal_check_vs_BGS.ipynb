{
 "cells": [
  {
   "cell_type": "code",
   "execution_count": 1,
   "metadata": {},
   "outputs": [
    {
     "data": {
      "text/plain": [
       "read_parameters (generic function with 1 method)"
      ]
     },
     "metadata": {},
     "output_type": "display_data"
    }
   ],
   "source": [
    "@doc \"\"\" Generates a file of data for analytical projections, so that we can compare with our other code.\n",
    "\"\"\"\n",
    "\n",
    "###Data Reading and Writing\n",
    "base_folder = dirname(@__DIR__)\n",
    "#Analytical Functions\n",
    "include( joinpath(@__DIR__,\"../../../src/analytical_TFIM.jl\"))\n"
   ]
  },
  {
   "cell_type": "code",
   "execution_count": 2,
   "metadata": {},
   "outputs": [
    {
     "data": {
      "text/plain": [
       "ac (generic function with 1 method)"
      ]
     },
     "metadata": {},
     "output_type": "display_data"
    }
   ],
   "source": [
    "function nthermal(k,h)\n",
    "    ϵ= Epsilon_h(k,h)\n",
    "    return 1/(1+exp(β*ϵ))\n",
    "end\n",
    "#Define Thermal expectations\n",
    "function aa(l,t)\n",
    "    #<c_i c_i+l>(t)\n",
    "    sum = 0\n",
    "    for ki in k\n",
    "        θ = Theta(ki,h1)\n",
    "        ϕ = Theta(-ki,h1)\n",
    "        n = nthermal(ki,h1)\n",
    "        phase = exp(-im*l*ki)\n",
    "        term_1= im*cos(θ/2)*sin(ϕ/2)*(1-n)\n",
    "        term_2= im*sin(θ/2)*cos(ϕ/2)*n\n",
    "        sum += (term_1+term_2)*phase\n",
    "    end\n",
    "    return sum/L\n",
    "end \n",
    "function cc(l,t)\n",
    "    #<c_i c_i+l>(t)\n",
    "    sum = 0\n",
    "    for ki in k\n",
    "        θ = Theta(ki,h1)\n",
    "        ϕ = Theta(-ki,h1)\n",
    "        n = nthermal(ki,h1)\n",
    "        ###DO THEY HAVE THE SAME PHASE?!?!?\n",
    "        phase = exp(im*l*ki)\n",
    "        term_1= -im*cos(θ/2)*sin(ϕ/2)*(n)\n",
    "        term_2= -im*sin(θ/2)*cos(ϕ/2)*(1-n)\n",
    "        sum += (term_1+term_2)*phase\n",
    "    end\n",
    "    return sum/L\n",
    "end \n",
    "\n",
    "function ca(l,t)\n",
    "    #<c_i c_i+l>(t)\n",
    "    sum = 0\n",
    "    for ki in k\n",
    "        θ = Theta(ki,h1)\n",
    "        ϕ = Theta(-ki,h1)\n",
    "        n = nthermal(ki,h1)\n",
    "        phase = exp(im*l*ki)\n",
    "        term_1= cos(θ/2)^2*n\n",
    "        term_2= sin(ϕ/2)^2*(1-n)\n",
    "        sum += (term_1+term_2)*phase\n",
    "    end\n",
    "    return sum/L\n",
    "end \n",
    "function ac(l,t)\n",
    "    #<c_i c_i+l>(t)\n",
    "    sum = 0\n",
    "    for ki in k\n",
    "        θ = Theta(ki,h1)\n",
    "        ϕ = Theta(-ki,h1)\n",
    "        n = nthermal(ki,h1)\n",
    "        phase = exp(-im*l*ki)\n",
    "        term_1= cos(θ/2)^2*(1-n)\n",
    "        term_2= sin(ϕ/2)^2*(n)\n",
    "        sum += (term_1+term_2)*phase\n",
    "    end\n",
    "    return sum/L\n",
    "end \n"
   ]
  },
  {
   "cell_type": "code",
   "execution_count": 15,
   "metadata": {},
   "outputs": [
    {
     "data": {
      "text/plain": [
       "100"
      ]
     },
     "metadata": {},
     "output_type": "display_data"
    }
   ],
   "source": [
    "\n",
    "L= 100\n",
    "#Subsystem Length\n",
    "\n",
    "#Momentum\n",
    "k = [2*pi*(n+1/2)/L for n in 0:L-1];\n",
    "##Parameters\n",
    "J = 1\n",
    "h1 = 0\n",
    "h2 = 0\n",
    "β=100\n"
   ]
  },
  {
   "cell_type": "code",
   "execution_count": 17,
   "metadata": {},
   "outputs": [
    {
     "data": {
      "text/plain": [
       "0.9999999999999999 - 7.248840199966525e-18im"
      ]
     },
     "metadata": {},
     "output_type": "display_data"
    }
   ],
   "source": [
    "BA(0,1,0)*-im"
   ]
  },
  {
   "cell_type": "code",
   "execution_count": null,
   "metadata": {},
   "outputs": [],
   "source": []
  }
 ],
 "metadata": {
  "kernelspec": {
   "display_name": "Julia 1.11.5",
   "language": "julia",
   "name": "julia-1.11"
  },
  "language_info": {
   "file_extension": ".jl",
   "mimetype": "application/julia",
   "name": "julia",
   "version": "1.11.5"
  }
 },
 "nbformat": 4,
 "nbformat_minor": 2
}
