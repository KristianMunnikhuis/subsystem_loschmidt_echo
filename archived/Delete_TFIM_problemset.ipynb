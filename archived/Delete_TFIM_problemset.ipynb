{
 "cells": [
  {
   "cell_type": "markdown",
   "id": "6cba8b45",
   "metadata": {},
   "source": [
    "mostly old scratch-code for when I read through the TFIM notes. There are a few problems in here that maybe I'll want to revisit. \n",
    "mostly everything is done better in /src/single_particle_sector.py\n",
    "\n",
    "Recommending deletion from 4/26/25\n"
   ]
  },
  {
   "cell_type": "code",
   "execution_count": null,
   "id": "292a0dc9",
   "metadata": {},
   "outputs": [],
   "source": [
    "#Imports\n",
    "import sys,os\n",
    "os.environ['MKL_NUM_THREADS'] = '4' # set number of MKL threads to run in parallel\n",
    "from quspin.operators import hamiltonian,quantum_operator\n",
    "from quspin.basis import spin_basis_1d\n",
    "from numpy.random import uniform,seed\n",
    "from joblib import delayed,Parallel\n",
    "from itertools import combinations\n",
    "from functools import partial\n",
    "import numpy as np\n",
    "import gc\n",
    "import pickle\n",
    "from time import time\n",
    "from quspin.tools.measurements import diag_ensemble\n",
    "from quspin.tools.evolution import ED_state_vs_time\n",
    "import matplotlib.pyplot as plt\n",
    "timestamp = time()"
   ]
  },
  {
   "cell_type": "code",
   "execution_count": null,
   "id": "7a60ba6e",
   "metadata": {},
   "outputs": [],
   "source": [
    "# Specify the size of the matrix\n",
    "L = 8  # Replace 5 with your desired value\n",
    "\n",
    "# Generate a random L x L matrix\n",
    "RM1 = np.random.rand(2**L, 2**L)\n",
    "RM2 = np.random.rand(2*L,2*L)\n"
   ]
  },
  {
   "cell_type": "code",
   "execution_count": null,
   "id": "cf24b0df",
   "metadata": {},
   "outputs": [],
   "source": [
    "timestamp = time()\n",
    "np.linalg.eigh(RM1)\n",
    "\n",
    "x = time()-timestamp\n",
    "\n",
    "timestamp = time()\n",
    "np.linalg.eigh(RM2)\n",
    "\n",
    "y = time()-timestamp\n",
    "\n",
    "print(x/y)"
   ]
  },
  {
   "cell_type": "code",
   "execution_count": null,
   "id": "8a6ecae9",
   "metadata": {},
   "outputs": [],
   "source": [
    "import numpy as np\n",
    "\n",
    "A = np.array([[1, 2],\n",
    "              [3, 4]])\n",
    "\n",
    "def single_block(k):\n",
    "    e = -2*J*np.cos(k)-2*h\n",
    "    d = 2*J*np.sin(k)\n",
    "    A = np.array([[e,d],[d,-e]])\n",
    "    return A\n",
    "\n",
    "\n"
   ]
  },
  {
   "cell_type": "code",
   "execution_count": null,
   "id": "00d9568f",
   "metadata": {},
   "outputs": [],
   "source": [
    "import scipy\n",
    "J = 1\n",
    "h = 0\n",
    "L = 8\n",
    "k = np.array([np.pi * (2*n - 1) / L for n in range(-L//2 + 1, L//2 + 1)])\n",
    "x = [single_block(ki) for ki in k]\n",
    "H = scipy.linalg.block_diag(*x)"
   ]
  },
  {
   "cell_type": "code",
   "execution_count": null,
   "id": "952d7e76",
   "metadata": {},
   "outputs": [],
   "source": []
  },
  {
   "cell_type": "code",
   "execution_count": null,
   "id": "dad890e5",
   "metadata": {},
   "outputs": [],
   "source": [
    "from itertools import product\n",
    "evals, evecs = np.linalg.eigh(H)  # evals: 2L eigenvalues\n",
    "\n",
    "states = list(product([0, 1], repeat=L))  # all occupation patterns\n",
    "E_many = np.array([sum(eps[i] * occ[i] for i in range(L)) for occ in states])\n",
    "\n",
    "H_many = np.diag(E_many)  # diagonal many-body Hamiltonian\n"
   ]
  },
  {
   "cell_type": "code",
   "execution_count": null,
   "id": "b90586ab",
   "metadata": {},
   "outputs": [],
   "source": [
    "from itertools import product\n",
    "import numpy as np\n",
    "\n",
    "evals, _ = np.linalg.eigh(H)  # H is 2L x 2L\n",
    "\n",
    "L = len(evals) // 2\n",
    "eps = evals[L:]  # positive eigenvalues\n",
    "\n",
    "states = list(product([0, 1], repeat=L))  # 2^L states\n",
    "E_many = np.array([sum(eps[i] * occ[i] for i in range(L)) for occ in states])\n",
    "H_many = np.diag(E_many)\n",
    "\n"
   ]
  },
  {
   "cell_type": "code",
   "execution_count": null,
   "id": "59779ca7",
   "metadata": {},
   "outputs": [],
   "source": [
    "plt.plot(np.sort(E_many)-8)"
   ]
  },
  {
   "cell_type": "code",
   "execution_count": null,
   "id": "c77ef75d",
   "metadata": {},
   "outputs": [],
   "source": [
    "import numpy as np\n",
    "from scipy.linalg import block_diag\n",
    "from itertools import product\n",
    "\n",
    "J = 1\n",
    "h = 0\n",
    "L = 8\n",
    "\n",
    "# Periodic BC: odd parity sector\n",
    "k = np.array([2 * np.pi * n / L for n in range(L)])\n",
    "\n",
    "def single_block(k):\n",
    "    e = -2 * h - 2 * J * np.cos(k)\n",
    "    d = 2 * J * np.sin(k)\n",
    "    return np.array([[e, d], [d, -e]])\n",
    "\n",
    "blocks = [single_block(ki) for ki in k]\n",
    "H = block_diag(*blocks)\n",
    "\n",
    "# Diagonalize H\n",
    "evals, _ = np.linalg.eigh(H)\n",
    "\n",
    "# Keep positive eigenvalues (L of them) — they correspond to Bogoliubov modes\n",
    "eps = evals[L:]\n",
    "\n",
    "# Build many-body energies from occupations of Bogoliubov modes\n",
    "states = list(product([0, 1], repeat=L))\n",
    "E_many = np.array([sum(eps[i] * occ[i] for i in range(L)) for occ in states])\n",
    "H_many = np.sort(E_many)\n"
   ]
  },
  {
   "cell_type": "code",
   "execution_count": null,
   "id": "02ffecf3",
   "metadata": {},
   "outputs": [],
   "source": [
    "plt.plot(np.sort(E_many))\n"
   ]
  },
  {
   "cell_type": "code",
   "execution_count": null,
   "id": "4c5bf02e",
   "metadata": {},
   "outputs": [],
   "source": [
    "import numpy as np\n",
    "from scipy.linalg import block_diag\n",
    "from itertools import product\n",
    "\n",
    "J = 1\n",
    "h = 0\n",
    "L = 8\n",
    "\n",
    "# Periodic BCs (odd parity sector)\n",
    "k = np.array([(2 * np.pi * n-1) / L for n in range(1,L+1)])\n",
    "\n",
    "def single_block(k):\n",
    "    e = -2 * h - 2 * J * np.cos(k)\n",
    "    d = 2 * J * np.sin(k)\n",
    "    return np.array([[e, d], [d, -e]])\n",
    "\n",
    "# Construct block-diagonal Hamiltonian\n",
    "blocks = [single_block(ki) for ki in k]\n",
    "H = block_diag(*blocks)\n",
    "\n",
    "# Diagonalize H\n",
    "evals, _ = np.linalg.eigh(H)\n",
    "\n",
    "# Sort and extract positive energies (Bogoliubov mode energies)\n",
    "evals = np.sort(evals)\n",
    "eps = evals[L:]  # positive-energy quasiparticles\n",
    "E0 = -0.5 * np.sum(eps)  # ground state energy (vacuum)\n",
    "\n",
    "# Generate all 2^L occupation states\n",
    "states = list(product([0, 1], repeat=L))\n",
    "\n",
    "# Build full many-body spectrum\n",
    "E_many = np.array([E0 + sum(eps[i] * occ[i] for i in range(L)) for occ in states])\n",
    "H_many = np.sort(E_many)\n"
   ]
  },
  {
   "cell_type": "code",
   "execution_count": null,
   "id": "ecb39ed9",
   "metadata": {},
   "outputs": [],
   "source": [
    "plt.plot(np.sort(E_many))"
   ]
  },
  {
   "cell_type": "code",
   "execution_count": null,
   "id": "5be5e332",
   "metadata": {},
   "outputs": [],
   "source": [
    "evals, _ = np.linalg.eigh(H)\n",
    "\n",
    "# Remove tiny numerical zero eigenvalues if present (safe cutoff)\n",
    "evals = np.real_if_close(evals)\n",
    "evals = np.sort(evals)\n",
    "\n",
    "# Assuming particle-hole symmetry: take positive eigenvalues\n",
    "eps = evals[evals > 1e-10]  # keep only strictly positive\n",
    "\n",
    "# Ground state energy (vacuum energy)\n",
    "E0 = -0.5 * np.sum(eps)\n",
    "\n",
    "# Generate all 2^L configurations\n",
    "from itertools import product\n",
    "states = list(product([0, 1], repeat=len(eps)))\n",
    "\n",
    "# Build many-body spectrum\n",
    "E_many = np.array([E0 + sum(occ[i] * eps[i] for i in range(len(eps))) for occ in states])\n",
    "H_many = np.sort(E_many)\n"
   ]
  },
  {
   "cell_type": "code",
   "execution_count": null,
   "id": "38b493a6",
   "metadata": {},
   "outputs": [],
   "source": [
    "import numpy as np\n",
    "from scipy.linalg import block_diag\n",
    "from itertools import product\n",
    "\n",
    "J = 1\n",
    "h = 0\n",
    "L = 8\n",
    "k_vals = np.array([2 * np.pi * n / L for n in range(L)])\n",
    "blocks = [single_block(k) for k in k_vals]\n",
    "H_bdg = block_diag(*blocks)\n",
    "\n",
    "# Diagonalize H\n",
    "evals, _ = np.linalg.eigh(H_bdg)\n",
    "\n",
    "# Sort to extract positive modes\n",
    "evals = np.sort(np.real_if_close(evals))\n",
    "eps = evals[evals > 1e-10]  # only positive modes\n",
    "E0 = -0.5 * np.sum(eps)  # vacuum energy\n",
    "\n",
    "# All 2^L configurations over L positive-energy modes\n",
    "states = list(product([0, 1], repeat=L))\n",
    "E_many = np.array([E0 + sum(eps[i] * occ[i] for i in range(L)) for occ in states])\n",
    "H_many = np.sort(E_many)\n",
    "plt.plot(H_many)\n",
    "\n",
    "\n"
   ]
  },
  {
   "cell_type": "code",
   "execution_count": null,
   "id": "fbb13223",
   "metadata": {},
   "outputs": [],
   "source": [
    "# --- Imports ---\n",
    "import numpy as np\n",
    "from scipy.linalg import block_diag\n",
    "from itertools import product\n",
    "from quspin.operators import quantum_operator\n",
    "from quspin.basis import spin_basis_1d\n",
    "\n",
    "# --- Parameters ---\n",
    "L = 8\n",
    "J = 1\n",
    "h = 0\n",
    "\n",
    "# --- QuSpin: Full spin Hamiltonian ---\n",
    "basis = spin_basis_1d(L, pauli=-1, pblock=1)  # pblock=1 → odd fermion parity\n",
    "J_list = [[-J, i, (i+1)%L] for i in range(L)]  # periodic\n",
    "h_list = [[-h, i] for i in range(L)]\n",
    "\n",
    "static = [[\"xx\", J_list], [\"z\", h_list]]\n",
    "H_spin = quantum_operator({\"static\": static}, basis=basis).tohamiltonian()\n",
    "E_spin = np.sort(np.linalg.eigvalsh(H_spin.todense()))\n"
   ]
  },
  {
   "cell_type": "code",
   "execution_count": null,
   "id": "dc28ec2d",
   "metadata": {},
   "outputs": [],
   "source": [
    "# --- BdG construction ---\n",
    "def single_block(k):\n",
    "    e = -2 * h - 2 * J * np.cos(k)\n",
    "    d = 2 * J * np.sin(k)\n",
    "    return np.array([[e, d], [d, -e]])\n",
    "\n",
    "k_vals = np.array([2 * np.pi * n / L for n in range(L)])  # PBC → odd fermion parity\n",
    "blocks = [single_block(k) for k in k_vals]\n",
    "H_bdg = block_diag(*blocks)\n",
    "\n",
    "# Diagonalize\n",
    "evals, _ = np.linalg.eigh(H_bdg)\n",
    "evals = np.sort(np.real_if_close(evals))\n",
    "eps = evals[evals > 1e-10]  # only positive eigenvalues\n",
    "E0 = -0.5 * np.sum(eps)\n",
    "\n",
    "# Build many-body energies\n",
    "states = list(product([0, 1], repeat=L))\n",
    "E_many = np.array([E0 + sum(eps[i] * occ[i] for i in range(L)) for occ in states])\n",
    "E_bdg = np.sort(E_many)\n"
   ]
  },
  {
   "cell_type": "code",
   "execution_count": null,
   "id": "02a2643b",
   "metadata": {},
   "outputs": [],
   "source": [
    "# --- Compare ---\n",
    "print(np.allclose(E_bdg, E_spin, atol=1e-10))  # should be True\n",
    "print(\"Max error:\", np.max(np.abs(E_bdg - E_spin)))\n"
   ]
  },
  {
   "cell_type": "code",
   "execution_count": null,
   "id": "bc457cf0",
   "metadata": {},
   "outputs": [],
   "source": [
    "import numpy as np\n",
    "import matplotlib.pyplot as plt\n",
    "from scipy.linalg import block_diag\n",
    "from itertools import product\n",
    "\n",
    "# Parameters\n",
    "J = -1\n",
    "h = 0\n",
    "L = 15\n",
    "\n",
    "# Define single-particle BdG block for each momentum\n",
    "def single_block(k):\n",
    "    e = -2 * h - 2 * J * np.cos(k)\n",
    "    d = 2 * J * np.sin(k)\n",
    "    return np.array([[e, d], [d, -e]])\n",
    "\n",
    "# Anti-periodic BCs (even fermion parity): k = (2n-1)π / L\n",
    "k_vals = np.array([(2*n - 1) * np.pi / L for n in range(1, L+1)])\n",
    "\n",
    "# Build full 2L × 2L BdG Hamiltonian\n",
    "blocks = [single_block(k) for k in k_vals]\n",
    "H_bdg = block_diag(*blocks)\n",
    "\n",
    "# Diagonalize BdG Hamiltonian\n",
    "evals, _ = np.linalg.eigh(H_bdg)\n",
    "evals = np.sort(np.real_if_close(evals))\n",
    "eps = evals[evals > 1e-10]  # positive quasiparticle energies\n",
    "E0 = -0.5 * np.sum(eps)     # ground state (vacuum) energy\n",
    "\n",
    "# Generate many-body states with even number of quasiparticles\n",
    "states = list(product([0, 1], repeat=L))\n",
    "states = [s for s in states if sum(s) % 2 == 0]\n",
    "\n",
    "# Build many-body spectrum\n",
    "E_many = np.array([E0 + sum(eps[i] * s[i] for i in range(L)) for s in states])\n",
    "H_many = np.sort(E_many)\n",
    "\n",
    "# Plot\n",
    "plt.figure(figsize=(6,4))\n",
    "plt.plot(H_many)\n",
    "plt.title(\"Many-body spectrum (even fermion parity sector)\")\n",
    "plt.xlabel(\"State index\")\n",
    "plt.ylabel(\"Energy\")\n",
    "\n",
    "plt.show()\n"
   ]
  },
  {
   "cell_type": "code",
   "execution_count": null,
   "id": "f5ad0e4f",
   "metadata": {},
   "outputs": [],
   "source": [
    "eps"
   ]
  },
  {
   "cell_type": "code",
   "execution_count": null,
   "id": "402bcb6c",
   "metadata": {},
   "outputs": [],
   "source": [
    "import numpy as np\n",
    "import matplotlib.pyplot as plt\n",
    "from scipy.linalg import block_diag\n",
    "from itertools import product\n",
    "\n",
    "# Parameters\n",
    "J = -1\n",
    "h = 1.5\n",
    "L = 15\n",
    "\n",
    "def single_block(k):\n",
    "    e = -2 * h - 2 * J * np.cos(k)\n",
    "    d = 2 * J * np.sin(k)\n",
    "    return np.array([[e, d], [d, -e]])\n",
    "\n",
    "def build_spectrum(k_vals, parity):  # parity: 0 = even, 1 = odd\n",
    "    blocks = [single_block(k) for k in k_vals]\n",
    "    H_bdg = block_diag(*blocks)\n",
    "    evals, _ = np.linalg.eigh(H_bdg)\n",
    "    evals = np.sort(np.real_if_close(evals))\n",
    "    eps = evals[evals > 1e-10]\n",
    "    E0 = -0.5 * np.sum(eps)\n",
    "    states = list(product([0, 1], repeat=L))\n",
    "    states = [s for s in states if sum(s) % 2 == parity]\n",
    "    E_many = np.array([E0 + sum(eps[i] * s[i] for i in range(L)) for s in states])\n",
    "    return np.sort(E_many)\n",
    "\n",
    "# Even parity sector (anti-periodic BC)\n",
    "k_even = np.array([(2*n - 1) * np.pi / L for n in range(1, L+1)])\n",
    "E_even = build_spectrum(k_even, parity=0)\n",
    "\n",
    "# Odd parity sector (periodic BC)\n",
    "k_odd = np.array([2 * np.pi * n / L for n in range(L)])\n",
    "E_odd = build_spectrum(k_odd, parity=1)\n",
    "\n",
    "# Full spectrum\n",
    "E_full = np.sort(np.concatenate((E_even, E_odd)))\n",
    "\n",
    "# Plot\n",
    "#plt.figure(figsize=(6, 4))\n",
    "plt.plot(E_full)\n",
    "plt.title(\"Many-body spectrum (full, even + odd parity)\")\n",
    "plt.xlabel(\"State index\")\n",
    "plt.ylabel(\"Energy\")\n",
    "\n",
    "plt.show()\n"
   ]
  },
  {
   "cell_type": "code",
   "execution_count": null,
   "id": "cc3e2f22",
   "metadata": {},
   "outputs": [],
   "source": [
    "import numpy as np\n",
    "from scipy.linalg import eigh\n",
    "from itertools import product\n",
    "import matplotlib.pyplot as plt\n",
    "\n",
    "J =1\n",
    "h = 1\n",
    "L = 50\n",
    "\n",
    "# Build BdG Hamiltonian in real space\n",
    "A = np.zeros((L, L))\n",
    "B = np.zeros((L, L))\n",
    "\n",
    "for j in range(L):\n",
    "    A[j, j] = 2 * h\n",
    "for j in range(L-1):  # PBC:  wraparound\n",
    "    A[j, (j+1)%L] = A[(j+1)%L, j] = -J\n",
    "    B[j, (j+1)%L] = -J\n",
    "    B[(j+1)%L, j] = J\n",
    "# B[L-1,0] = J\n",
    "# B[0,L-1] = -B[L-1,0]\n",
    "# A[0,L-1]= A[L-1,0] = J\n",
    "\n",
    "# Build full 2L x 2L BdG matrix\n",
    "H_bdg = np.block([[A, B], [-B, -A]])\n",
    "\n",
    "# Diagonalize\n",
    "evals, V = eigh(H_bdg)\n",
    "eps = np.sort(np.real_if_close(evals))[L:]  # positive-energy modes\n",
    "E0 = - 1/2 *np.sum(eps)\n",
    "\n",
    "# # Build many-body spectrum (all states)\n",
    "# states = list(product([0, 1], repeat=L))\n",
    "# states = [s for s in states if sum(s) % 2 == 0]\n",
    "\n",
    "# E_many = np.array([E0 + sum(eps[i] * s[i] for i in range(L)) for s in states])\n",
    "# H_many = np.sort(E_many)\n",
    "\n",
    "# Plot\n",
    "# plt.plot(H_many)\n",
    "# plt.title(\"TFIM Many-Body Spectrum (Open BC)\")\n",
    "# plt.xlabel(\"State index\")\n",
    "# plt.ylabel(\"Energy\")\n",
    "# plt.show()\n"
   ]
  },
  {
   "cell_type": "code",
   "execution_count": null,
   "id": "d04350c0",
   "metadata": {},
   "outputs": [],
   "source": [
    "positive_E_many = 2*evals[evals > 0]\n",
    "plt.plot(np.sort(positive_E_many))\n",
    "\n",
    "min(positive_E_many)"
   ]
  },
  {
   "cell_type": "code",
   "execution_count": null,
   "id": "f3d16eeb",
   "metadata": {},
   "outputs": [],
   "source": [
    "J =1\n",
    "h = 1\n",
    "data =[]\n",
    "for L in range(6,500):\n",
    "\n",
    "    # Build BdG Hamiltonian in real space\n",
    "    A = np.zeros((L, L))\n",
    "    B = np.zeros((L, L))\n",
    "\n",
    "    for j in range(L):\n",
    "        A[j, j] = 2 * h\n",
    "    for j in range(L-1):  # PBC:  wraparound\n",
    "        A[j, (j+1)%L] = A[(j+1)%L, j] = -J\n",
    "        B[j, (j+1)%L] = -J\n",
    "        B[(j+1)%L, j] = J\n",
    "    # B[L-1,0] = J\n",
    "# B[0,L-1] = -B[L-1,0]\n",
    "# A[0,L-1]= A[L-1,0] = J\n",
    "\n",
    "    # Build full 2L x 2L BdG matrix\n",
    "    H_bdg = np.block([[A, B], [-B, -A]])\n",
    "\n",
    "    # Diagonalize\n",
    "    evals, V = eigh(H_bdg)\n",
    "  # positive-energy modes\n",
    "    evals = np.sort(evals[evals>0])\n",
    "    data.append(evals[0])\n",
    "plt.plot(data)"
   ]
  },
  {
   "cell_type": "code",
   "execution_count": null,
   "id": "6a2a4fef",
   "metadata": {},
   "outputs": [],
   "source": [
    "plt.plot(data)\n",
    "plt.yscale(\"log\")\n",
    "plt.xscale(\"log\")"
   ]
  },
  {
   "cell_type": "code",
   "execution_count": null,
   "id": "eae2656d",
   "metadata": {},
   "outputs": [],
   "source": [
    "def sigma_xx(j, G, L):\n",
    "    # indices\n",
    "    cj = j\n",
    "    cj1 = j + 1\n",
    "    cjd = L + j\n",
    "    cj1d = L + j + 1\n",
    "    \n",
    "    term1 = G[cjd, cj1d]     # ⟨ c_j† c_{j+1}† ⟩\n",
    "    term2 = G[cjd, cj1]      # ⟨ c_j† c_{j+1} ⟩\n",
    "    term3 = -G[cj, cj1d]      # ⟨ c_j c_{j+1}† ⟩\n",
    "    term4 = -G[cj, cj1]       # ⟨ c_j c_{j+1} ⟩\n",
    "    \n",
    "    return term1 + term2 + term3 + term4\n"
   ]
  },
  {
   "cell_type": "code",
   "execution_count": null,
   "id": "15137ccc",
   "metadata": {},
   "outputs": [],
   "source": []
  },
  {
   "cell_type": "code",
   "execution_count": null,
   "id": "0005801c",
   "metadata": {},
   "outputs": [],
   "source": [
    "# After: \n",
    "evals, evecs = np.linalg.eigh(H_bdg)\n",
    "U_minus = evecs[:, :L]  # L negative energy modes\n",
    "G = U_minus @ U_minus.T.conj()  # correlation matrix ⟨Ψ Ψ†⟩\n",
    "\n",
    "# Compute σ^x_j σ^x_{j+1} for j = 0 to L-2\n",
    "xx_vals = [np.real(sigma_xx(j, G, L)) for j in range(L -1)]\n",
    "len(xx_vals)"
   ]
  },
  {
   "cell_type": "code",
   "execution_count": null,
   "id": "c4fb3eb8",
   "metadata": {},
   "outputs": [],
   "source": [
    "import numpy as np\n",
    "from scipy.linalg import eigh\n",
    "from itertools import product\n",
    "import matplotlib.pyplot as plt\n",
    "\n",
    "J =-1\n",
    "h_i = np.linspace(0,2,100)\n",
    "L = 20\n",
    "H_i = []\n",
    "for h in h_i:\n",
    "    # Build BdG Hamiltonian in real space\n",
    "    A = np.zeros((L, L))\n",
    "    B = np.zeros((L, L))\n",
    "\n",
    "    for j in range(L):\n",
    "        A[j, j] = -2 * h\n",
    "    for j in range(L - 1):  # OBC: no wraparound\n",
    "        A[j, j+1] = A[j+1, j] = -J\n",
    "        B[j, j+1] = -J\n",
    "        B[j+1, j] = J\n",
    "\n",
    "    # Build full 2L x 2L BdG matrix\n",
    "    H_bdg = np.block([[A, B], [-B, -A]])\n",
    "    H_i.append(H_bdg)\n"
   ]
  },
  {
   "cell_type": "code",
   "execution_count": null,
   "id": "74a0b017",
   "metadata": {},
   "outputs": [],
   "source": [
    "xx_i = []\n",
    "for H in H_i:\n",
    "    # After: \n",
    "    evals, evecs = np.linalg.eigh(H)\n",
    "    U_minus = evecs[:, :L]  # L negative energy modes\n",
    "    G = U_minus @ U_minus.T.conj()  # correlation matrix ⟨Ψ Ψ†⟩\n",
    "    print(np.shape(G))\n",
    "# Compute σ^x_j σ^x_{j+1} for j = 0 to L-2\n",
    "    xx_vals = [np.real(sigma_xx(j, G, L)) for j in range(L -1)]\n",
    "    xx_i.append(1/4+xx_vals[4]/4)"
   ]
  },
  {
   "cell_type": "code",
   "execution_count": null,
   "id": "e11aadc6",
   "metadata": {},
   "outputs": [],
   "source": [
    "plt.plot(h_i,xx_i)\n",
    "plt.xlim(h_i[0],h_i[-1])"
   ]
  },
  {
   "cell_type": "code",
   "execution_count": null,
   "id": "c29842ee",
   "metadata": {},
   "outputs": [],
   "source": []
  },
  {
   "cell_type": "code",
   "execution_count": null,
   "id": "e24270b5",
   "metadata": {},
   "outputs": [],
   "source": [
    "from scipy.linalg import eigh\n",
    "import numpy as np\n",
    "\n",
    "def sigma_xx_ij(i, j, Gamma):\n",
    "    if i == j:\n",
    "        return 1.0\n",
    "    elif j < i:\n",
    "        return sigma_xx_ij(j, i, Gamma)\n",
    "\n",
    "    # Build Majorana indices: gamma_{2k}, gamma_{2k+1} = A_k, B_k\n",
    "    indices = []\n",
    "    indices.append(2*i)  # A_i\n",
    "    for k in range(i+1, j):\n",
    "        indices.append(2*k + 1)  # B_k\n",
    "        indices.append(2*k)      # A_k\n",
    "    indices.append(2*j)  # A_j\n",
    "\n",
    "    # Extract antisymmetric submatrix\n",
    "    Gsub = Gamma[np.ix_(indices, indices)]\n",
    "\n",
    "    return np.sqrt(np.linalg.det(Gsub)) # result is real in ground state\n"
   ]
  },
  {
   "cell_type": "markdown",
   "id": "0bbd9530",
   "metadata": {},
   "source": [
    "THIS FOLLOWING IS FOR ADIABATIC TIME EVOLUTION1!!!!!"
   ]
  },
  {
   "cell_type": "code",
   "execution_count": 13,
   "id": "97aea9de",
   "metadata": {},
   "outputs": [],
   "source": [
    "import numpy as np\n",
    "from scipy.linalg import eigh\n",
    "from itertools import product\n",
    "import matplotlib.pyplot as plt\n",
    "\n",
    "J =1\n",
    "L = 50\n",
    "tau = 10\n",
    "N_steps = 1000\n",
    "t,dt= np.linspace(0,tau,N_steps,retstep=True)\n",
    "\n",
    "def H_bdg(h,L,J=1):\n",
    "\n",
    "    # Build BdG Hamiltonian in real space\n",
    "    A = np.zeros((L, L))\n",
    "    B = np.zeros((L, L))\n",
    "\n",
    "    for j in range(L):\n",
    "        A[j, j] = 2 * h\n",
    "    for j in range(L-1):  # PBC:  wraparound\n",
    "        A[j, (j+1)%L] = A[(j+1)%L, j] = -J\n",
    "        B[j, (j+1)%L] = -J\n",
    "        B[(j+1)%L, j] = J\n",
    "    # B[L-1,0] = J\n",
    "    # B[0,L-1] = -B[L-1,0]\n",
    "    # A[0,L-1]= A[L-1,0] = J\n",
    "\n",
    "    # Build full 2L x 2L BdG matrix\n",
    "    H_bdg = np.block([[A, B], [-B, -A]])\n",
    "    return H_bdg\n",
    "\n",
    "def h_t(t, tau, h0, hf):\n",
    "    return h0 + (hf - h0) * (t / tau)\n",
    "\n",
    "\n",
    "H_bdg_t = [H_bdg(h_t(ti, tau, 1000,0), L) for ti in t]\n",
    "\n",
    "\n",
    "_, V = np.linalg.eigh(H_bdg_t[0])\n",
    "GS = V[:, :L]\n",
    "\n",
    "# Diagonalize\n",
    "# evals, V = eigh(H_bdg)\n",
    "# eps = np.sort(np.real_if_close(evals))[L:]  # positive-energy modes\n",
    "# E0 = - 1/2 *np.sum(eps)\n",
    "\n",
    "# # Build many-body spectrum (all states)\n",
    "# states = list(product([0, 1], repeat=L))\n",
    "# states = [s for s in states if sum(s) % 2 == 0]\n",
    "\n",
    "\n"
   ]
  },
  {
   "cell_type": "code",
   "execution_count": 14,
   "id": "6d52fed3",
   "metadata": {},
   "outputs": [],
   "source": [
    "pt = np.asarray(GS, dtype=np.complex128)\n",
    "T = H_bdg_t\n",
    "dat1 = [pt.copy()]\n",
    "\n",
    "for i in range(len(T)-1):\n",
    "    pt += 2 * T[i] @ pt * dt / (1j)\n",
    "    pt /= np.linalg.norm(pt)\n",
    "    dat1.append(pt.copy())\n"
   ]
  },
  {
   "cell_type": "code",
   "execution_count": 15,
   "id": "89810375",
   "metadata": {},
   "outputs": [
    {
     "data": {
      "text/plain": [
       "(100, 50)"
      ]
     },
     "execution_count": 15,
     "metadata": {},
     "output_type": "execute_result"
    }
   ],
   "source": [
    "np.shape(dat1[3])"
   ]
  },
  {
   "cell_type": "code",
   "execution_count": null,
   "id": "777af943",
   "metadata": {},
   "outputs": [],
   "source": []
  },
  {
   "cell_type": "code",
   "execution_count": 16,
   "id": "0d919b06",
   "metadata": {},
   "outputs": [
    {
     "data": {
      "text/plain": [
       "np.float64(-0.0005000000625003937)"
      ]
     },
     "execution_count": 16,
     "metadata": {},
     "output_type": "execute_result"
    }
   ],
   "source": [
    "def sigma_xx( j,psi, L):\n",
    "    G = Gi(psi)\n",
    "    # indices\n",
    "    cj = j\n",
    "    cj1 = j + 1\n",
    "    cjd = L + j\n",
    "    cj1d = L + j + 1\n",
    "    \n",
    "    term1 = G[cjd, cj1d]     # ⟨ c_j† c_{j+1}† ⟩\n",
    "    term2 = G[cjd, cj1]      # ⟨ c_j† c_{j+1} ⟩\n",
    "    term3 = -G[cj, cj1d]      # ⟨ c_j c_{j+1}† ⟩\n",
    "    term4 = -G[cj, cj1]       # ⟨ c_j c_{j+1} ⟩\n",
    "    \n",
    "    return term1 + term2 + term3 + term4\n",
    "def Gi(psi):\n",
    "    return psi @ psi.T.conj() \n",
    "\n",
    "sigma_xx(4,GS,L)"
   ]
  },
  {
   "cell_type": "code",
   "execution_count": 17,
   "id": "68f0518c",
   "metadata": {},
   "outputs": [],
   "source": [
    "sigma_xx_t = []\n",
    "for ti in range(len(t)):\n",
    "    x = sigma_xx(1,dat1[ti],L)\n",
    "    sigma_xx_t.append(1/2+x/2)\n",
    "sigma_xx_t = np.array(sigma_xx_t)\n"
   ]
  },
  {
   "cell_type": "code",
   "execution_count": 18,
   "id": "3ed26481",
   "metadata": {},
   "outputs": [
    {
     "data": {
      "text/plain": [
       "[<matplotlib.lines.Line2D at 0x780d29dd0950>]"
      ]
     },
     "execution_count": 18,
     "metadata": {},
     "output_type": "execute_result"
    },
    {
     "data": {
      "image/png": "[encoded data removed]",
      "text/plain": [
       "<Figure size 640x480 with 1 Axes>"
      ]
     },
     "metadata": {},
     "output_type": "display_data"
    }
   ],
   "source": [
    "plt.plot(t,sigma_xx_t)\n",
    "#plt.hlines(np.sqrt(1/tau),t[0],t[-1])"
   ]
  },
  {
   "cell_type": "code",
   "execution_count": null,
   "id": "1b648388",
   "metadata": {},
   "outputs": [
    {
     "data": {
      "image/png": "[encoded data removed]",
      "text/plain": [
       "<Figure size 640x480 with 1 Axes>"
      ]
     },
     "metadata": {},
     "output_type": "display_data"
    }
   ],
   "source": [
    "import numpy as np\n",
    "import matplotlib.pyplot as plt\n",
    "\n",
    "J = 1\n",
    "L = 50\n",
    "taus = [5, 10, 20, 40, 80, 160]\n",
    "hi = 10\n",
    "\n",
    "def h_t(t, tau, h0, hf):\n",
    "    return h0 + (hf - h0) * (t / tau)\n",
    "\n",
    "def H_bdg(h, L, J=1):\n",
    "    A = np.zeros((L, L))\n",
    "    B = np.zeros((L, L))\n",
    "    for j in range(L):\n",
    "        A[j, j] = 2 * h\n",
    "    for j in range(L-1):\n",
    "        A[j, j+1] = A[j+1, j] = -J\n",
    "        B[j, j+1] = -J\n",
    "        B[j+1, j] = J\n",
    "    return 1/2* np.block([[A, B], [-B, -A]])\n",
    "\n",
    "def sigma_xx(j, G, L):\n",
    "    cj = j\n",
    "    cj1 = j + 1\n",
    "    cjd = L + j\n",
    "    cj1d = L + j + 1\n",
    "    term1 = G[cjd, cj1d]\n",
    "    term2 = G[cjd, cj1]\n",
    "    term3 = -G[cj, cj1d]\n",
    "    term4 = -G[cj, cj1]\n",
    "    return term1 + term2 + term3 + term4\n",
    "\n",
    "rho_defs = []\n",
    "\n",
    "for tau in taus:\n",
    "    N_steps = 100\n",
    "    t_vals, dt = np.linspace(0, tau, N_steps, retstep=True)\n",
    "    H0 = H_bdg(hi, L)\n",
    "    _, evecs = np.linalg.eigh(H0)\n",
    "    U = evecs[:, :L]  # initial negative-energy modes\n",
    "    U = np.asarray(U, dtype=np.complex128)\n",
    "\n",
    "    for t in t_vals:\n",
    "        H = H_bdg(h_t(t, tau, hi, 0), L)\n",
    "        # U += -2j * H @ U * dt\n",
    "        I = np.eye(2*L)\n",
    "        A = I + 0.5j * dt * H\n",
    "        B = I - 0.5j * dt * H\n",
    "        U = np.linalg.solve(A, B @ U)\n",
    "\n",
    "        # Optional stabilization:\n",
    "        # U, _ = np.linalg.qr(U)\n",
    "\n",
    "    G = U @ U.conj().T\n",
    "    xx_vals = [np.real(sigma_xx(j, G, L)) for j in range(L - 1)]\n",
    "    rho_def = 0.5 * (1 + np.mean(xx_vals))\n",
    "    rho_defs.append(rho_def)\n",
    "\n",
    "#plt.loglog(taus, rho_defs, 'o-')\n",
    "plt.xlabel(\"τ\")\n",
    "plt.ylabel(\"ρ_def(τ)\")\n",
    "plt.title(\"Kibble-Zurek Scaling\")\n",
    "#plt.grid(True, which=\"both\", ls=\"--\")\n",
    "plt.show()\n"
   ]
  },
  {
   "cell_type": "code",
   "execution_count": null,
   "id": "370db97b",
   "metadata": {},
   "outputs": [],
   "source": [
    "\n",
    "plt.plot(taus, np.array(rho_defs), 'o-')\n",
    "plt.xlabel(\"τ\")\n",
    "plt.ylabel(\"ρ_def(τ)\")\n",
    "plt.title(\"Kibble-Zurek Scaling\")\n",
    "plt.hlines(x,0,10000)\n",
    "\n",
    "\n",
    "plt.xlim(taus[0],taus[-1])\n",
    "plt.show()\n"
   ]
  },
  {
   "cell_type": "markdown",
   "id": "3ac4e046",
   "metadata": {},
   "source": [
    "Problem 12\n",
    "SPIN SPIN CORRELATION\n"
   ]
  },
  {
   "cell_type": "code",
   "execution_count": 174,
   "id": "1e55b1e7",
   "metadata": {},
   "outputs": [],
   "source": [
    "import numpy as np\n",
    "from scipy.linalg import eigh\n",
    "from itertools import product\n",
    "import matplotlib.pyplot as plt\n",
    "\n",
    "\n",
    "\n",
    "def Gi(psi):\n",
    "    return psi @ psi.T.conj() \n",
    "\n",
    "\n",
    "def H_bdg(h, L, J=1):\n",
    "    A = np.zeros((L, L))\n",
    "    B = np.zeros((L, L))\n",
    "\n",
    "    for j in range(L):\n",
    "        A[j, j] = 2 * h\n",
    "    for j in range(L - 1):\n",
    "        A[j, j + 1] = A[j + 1, j] = -J\n",
    "        B[j, j + 1] = -J\n",
    "        B[j + 1, j] = J\n",
    "\n",
    "   # Antiperiodic boundary condition (ABC) introduces a minus sign\n",
    "\n",
    "    A[0, L - 1] = A[L - 1, 0] = J\n",
    "    B[L - 1, 0] = J\n",
    "    B[0, L - 1] = -J\n",
    "\n",
    "    return 1/2*np.block([[A, B], [-B, -A]])\n"
   ]
  },
  {
   "cell_type": "code",
   "execution_count": null,
   "id": "71937d22",
   "metadata": {},
   "outputs": [],
   "source": []
  },
  {
   "cell_type": "code",
   "execution_count": 217,
   "id": "655f9180",
   "metadata": {},
   "outputs": [
    {
     "data": {
      "text/plain": [
       "(0.0, 1.0)"
      ]
     },
     "execution_count": 217,
     "metadata": {},
     "output_type": "execute_result"
    },
    {
     "data": {
      "image/png": "[encoded data removed]",
      "text/plain": [
       "<Figure size 640x480 with 1 Axes>"
      ]
     },
     "metadata": {},
     "output_type": "display_data"
    }
   ],
   "source": [
    "L = 100\n",
    "J =-1\n",
    "h = 1/2\n",
    "E1, U1_full = np.linalg.eigh(H_bdg(h, L,J))\n",
    "U1 = U1_full[:, :L]         # only negative-energy modes\n",
    "G = Gi(U1)                  # full 2L × 2L correlation matrix\n",
    "\n",
    "G1 = G[:L, :L]              # ⟨c† c⟩\n",
    "F1 = G[:L, L:]              # ⟨c c⟩\n",
    "\n",
    "\n",
    "n = np.arange(L+1)\n",
    "\n",
    "zz = []\n",
    "for ni in n:\n",
    "    M = np.zeros((ni, ni), dtype=np.complex128)\n",
    "    for j in range(ni):\n",
    "        for jp in range(ni):\n",
    "            s = int(j == jp)\n",
    "            s += -2 * G1[j, jp]\n",
    "            s += -2 * F1[j, jp]\n",
    "            M[j, jp] = s\n",
    "    zz.append(np.linalg.det(M))\n",
    "\n",
    "\n",
    "M_t = np.eye(L)-2*(G1+F1)\n",
    "\n",
    "j1 = 0\n",
    "# yy = []\n",
    "# for j2 in range(L):\n",
    "#     n = j2 - j1\n",
    "#     C = np.zeros((n, n), dtype=np.complex128)\n",
    "#     for x in range(n):\n",
    "#         for y in range(n):\n",
    "#             C[x, y] = M_t[j1 + x+1, j1  + y]\n",
    "#     yy.append(np.linalg.det(C))\n",
    "\n",
    "xx = []\n",
    "for j2 in range(L):\n",
    "    n = j2 - j1\n",
    "    C = np.zeros((n, n), dtype=np.complex128)\n",
    "    for x in range(n):\n",
    "        for y in range(n):\n",
    "            C[x, y] = M_t[j1 + x, j1 + 1 + y]\n",
    "    xx.append(np.linalg.det(C))\n",
    "\n",
    "\n",
    "plt.plot(xx,label = \"xx\")\n",
    "plt.plot(zz,label = \"zz\")\n",
    "plt.plot(yy,label=\"yy\")\n",
    "\n",
    "plt.legend()\n",
    "plt.ylim(0,1)\n"
   ]
  },
  {
   "cell_type": "code",
   "execution_count": 212,
   "id": "8ed2b29f",
   "metadata": {},
   "outputs": [
    {
     "data": {
      "image/png": "[encoded data removed]",
      "text/plain": [
       "<Figure size 640x480 with 1 Axes>"
      ]
     },
     "metadata": {},
     "output_type": "display_data"
    }
   ],
   "source": [
    "plt.plot(xx)\n",
    "plt.yscale(\"log\")\n",
    "plt.xscale(\"log\")"
   ]
  },
  {
   "cell_type": "code",
   "execution_count": null,
   "id": "7f546528",
   "metadata": {},
   "outputs": [],
   "source": []
  },
  {
   "cell_type": "code",
   "execution_count": null,
   "id": "6c1fac73",
   "metadata": {},
   "outputs": [],
   "source": [
    "plt.plot(zz)\n",
    "plt.ylim(0,1)"
   ]
  },
  {
   "cell_type": "code",
   "execution_count": null,
   "id": "12cc5e13",
   "metadata": {},
   "outputs": [],
   "source": [
    "\n",
    "L = 100\n",
    "J = 1\n",
    "h = 1.1\n",
    "H = H_bdg(h, L,J)\n",
    "E, _ = eigh(2*H)\n",
    "\n",
    "k_vals = np.linspace(0, 2 * np.pi, L, endpoint=False)\n",
    "E_analytic = 2 * np.sqrt((h - J * np.cos(k_vals))**2 + (J * np.sin(k_vals))**2)\n",
    "F_analytic = 2 * np.sqrt((J - h * np.cos(k_vals))**2 + (h * np.sin(k_vals))**2)\n",
    "\n",
    "plt.plot(np.sort(np.abs(E[:L])), label=\"Numerical\")\n",
    "plt.plot(np.sort(E_analytic), \"--\", label=\"Analytic\")\n",
    "plt.plot(np.sort(F_analytic), \"--\", label=\"2Analytic\")\n",
    "\n",
    "plt.xlabel(\"Mode index\")\n",
    "plt.ylabel(\"Energy\")\n",
    "plt.legend()\n",
    "plt.title(\"TFIM Dispersion Relation Comparison\")\n",
    "plt.show()"
   ]
  },
  {
   "cell_type": "code",
   "execution_count": null,
   "id": "8a0e137a",
   "metadata": {},
   "outputs": [],
   "source": [
    "n_vals = np.arange(050, L+1)        # skip n = 0\n",
    "cxx = []\n",
    "\n",
    "for n in n_vals:\n",
    "    S = np.empty((n, n), dtype=np.complex128)\n",
    "    for j in range(n):\n",
    "        for jp in range(n):\n",
    "            S[j, jp] = (j == jp) - 2.0 * G1[j, jp]-2.0*F1[j,jp]   # Eq. (★)\n",
    "    cxx.append(np.linalg.det(S).real)\n"
   ]
  },
  {
   "cell_type": "code",
   "execution_count": null,
   "id": "94c6a20f",
   "metadata": {},
   "outputs": [],
   "source": [
    "plt.plot(cxx)"
   ]
  },
  {
   "cell_type": "markdown",
   "id": "c4a7f071",
   "metadata": {},
   "source": [
    "Now we will try to formalize these into functions so that we can do our real analysis"
   ]
  },
  {
   "cell_type": "code",
   "execution_count": null,
   "id": "c4676f4a",
   "metadata": {},
   "outputs": [],
   "source": [
    "\n",
    "import numpy as np\n",
    "from scipy.linalg import eigh\n",
    "from itertools import product\n",
    "import matplotlib.pyplot as plt\n",
    "\n",
    "def Gi(psi):\n",
    "    #Generates Correlation Matrix\n",
    "    return psi @ psi.T.conj() \n",
    "\n",
    "\n",
    "def H_bdg(h, L, J=1,Boundary_Condition=\"OBC\"):\n",
    "    #Generates Hamiltonian\n",
    "    A = np.zeros((L, L))\n",
    "    B = np.zeros((L, L))\n",
    "\n",
    "    for j in range(L):\n",
    "        A[j, j] = 2 * h\n",
    "    for j in range(L - 1):\n",
    "        A[j, j + 1] = A[j + 1, j] = -J\n",
    "        B[j, j + 1] = -J\n",
    "        B[j + 1, j] = J\n",
    "    if Boundary_Condition== \"ABC\":\n",
    "        # Antiperiodic boundary condition (ABC) introduces a minus sign\n",
    "        A[0, L - 1] = A[L - 1, 0] = J\n",
    "        B[L - 1, 0] = J\n",
    "        B[0, L - 1] = -J\n",
    "    elif Boundary_Condition==\"PBC\":\n",
    "        # Periodoic Boundary Condition (PBC) introduces a positive sign\n",
    "        A[0, L - 1] = A[L - 1, 0] = -J\n",
    "        B[L - 1, 0] = -J\n",
    "        B[0, L - 1] = J\n",
    "    return 1/2*np.block([[A, B], [-B, -A]])\n",
    "\n",
    "\n",
    "L = 100\n",
    "J =1\n",
    "h = J/2    \n",
    "          # ⟨c c⟩\n",
    "\n",
    "def G(h,L,J=1,Boundary_Condition=\"OBC\"):\n",
    "    #Build 2Lx2L H\n",
    "    H = H_bdg(h,L,J,Boundary_Condition)\n",
    "    #Find Spectrum\n",
    "    E, U_full = np.linalg.eigh(H)\n",
    "    #Take only negative modes\n",
    "    U = U_full[:,E<0] \n",
    "    #Construct G (A 2Lx2L matrix)\n",
    "    return U@U.T.conj()\n",
    "\n",
    "\n",
    "\n",
    "def sigma_xx(n,Gi,L):\n",
    "    #calculates <sigma_x sigma_x+n>\n",
    "    G = Gi[:L,:L]\n",
    "    F = Gi[L:,:L]\n",
    "    S = np.empty((n, n), dtype=np.complex128)\n",
    "    for j in range(n):\n",
    "        for jp in range(n):\n",
    "            S[j, jp] = (j == jp) - 2.0 * G[j, jp]-2.0*F[j,jp]   # Eq. (★)\n",
    "    return np.linalg.det(S).real"
   ]
  },
  {
   "cell_type": "code",
   "execution_count": null,
   "id": "cfcefb21",
   "metadata": {},
   "outputs": [],
   "source": [
    "\n",
    "g = G(h,L,J,\"ABC\")\n",
    "Gt = g[:L,:L]\n",
    "Ft = g[L:,:L]\n",
    "plt.plot([sigma_xx(i,g,L) for i in range(L+1)])"
   ]
  },
  {
   "cell_type": "code",
   "execution_count": null,
   "id": "2f9dfde4",
   "metadata": {},
   "outputs": [],
   "source": [
    "a=0\n",
    "\n",
    "plt.plot([4*(Gt[a,a]-1/2)*(Gt[b,b]-1/2)+4*Gt[a,b]*(int(a==b)-Gt[b,a])+4*np.abs(Ft[a,b])**2 for b in range(L)])"
   ]
  },
  {
   "cell_type": "code",
   "execution_count": null,
   "id": "fc3fc679",
   "metadata": {},
   "outputs": [],
   "source": [
    "L = 10\n",
    "H = H_bdg(2,L,J=1,Boundary_Condition=\"ABC\")\n",
    "E,Vec =np.linalg.eigh(H)\n",
    "\n",
    "\n",
    "P = np.eye(2*L)\n",
    "P = np.roll(P, L, axis=0)  # swap upper and lower blocks\n",
    "\n",
    "np.shape(P)\n"
   ]
  },
  {
   "cell_type": "code",
   "execution_count": null,
   "id": "8f8999f6",
   "metadata": {},
   "outputs": [],
   "source": [
    "V_swapped = P @ Vec @ P.T\n",
    "\n",
    "H_swapped = P@ H @ P.T\n",
    "\n",
    "print(np.diag(V_swapped.T@H_swapped@V_swapped))"
   ]
  },
  {
   "cell_type": "code",
   "execution_count": null,
   "id": "96719ae4",
   "metadata": {},
   "outputs": [],
   "source": [
    "U = V_swapped[:L, :L]       # particle components of negative-energy modes\n",
    "V = V_swapped[:L, L:]       # hole components of negative-energy modes\n"
   ]
  },
  {
   "cell_type": "code",
   "execution_count": null,
   "id": "93d98e3c",
   "metadata": {},
   "outputs": [],
   "source": [
    "\n",
    "G = U@U.T.conj()\n",
    "F = U@V.T.conj()\n",
    "M = np.eye(L)-2*G-2*F"
   ]
  },
  {
   "cell_type": "code",
   "execution_count": null,
   "id": "a7908c2c",
   "metadata": {},
   "outputs": [],
   "source": [
    "M = np.eye(L)-2*G-2*F\n",
    "plt.plot([np.linalg.det(M[:j,:j]) for j in range(L+1)])"
   ]
  },
  {
   "cell_type": "code",
   "execution_count": null,
   "id": "46f43143",
   "metadata": {},
   "outputs": [],
   "source": []
  },
  {
   "cell_type": "code",
   "execution_count": null,
   "id": "caf6924f",
   "metadata": {},
   "outputs": [],
   "source": []
  },
  {
   "cell_type": "code",
   "execution_count": null,
   "id": "f6e6111b",
   "metadata": {},
   "outputs": [],
   "source": []
  },
  {
   "cell_type": "code",
   "execution_count": null,
   "id": "df3f5103",
   "metadata": {},
   "outputs": [],
   "source": []
  },
  {
   "cell_type": "code",
   "execution_count": null,
   "id": "d9576d23",
   "metadata": {},
   "outputs": [],
   "source": []
  }
 ],
 "metadata": {
  "kernelspec": {
   "display_name": "base",
   "language": "python",
   "name": "python3"
  },
  "language_info": {
   "codemirror_mode": {
    "name": "ipython",
    "version": 3
   },
   "file_extension": ".py",
   "mimetype": "text/x-python",
   "name": "python",
   "nbconvert_exporter": "python",
   "pygments_lexer": "ipython3",
   "version": "3.12.3"
  }
 },
 "nbformat": 4,
 "nbformat_minor": 5
}
