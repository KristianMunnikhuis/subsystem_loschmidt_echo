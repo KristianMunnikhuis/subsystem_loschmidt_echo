{
 "cells": [
  {
   "cell_type": "markdown",
   "metadata": {},
   "source": [
    "used to create thermal_expectations_BGS.py"
   ]
  },
  {
   "cell_type": "code",
   "execution_count": 1,
   "metadata": {},
   "outputs": [],
   "source": [
    "import sys\n",
    "import os\n",
    "sys.path.append(\"../src/\")\n",
    "#Imports\n",
    "import numpy as np\n",
    "import scipy as sp\n",
    "import numpy.linalg as la\n",
    "import matplotlib.pyplot as plt\n",
    "from matplotlib.pyplot import plot, scatter\n",
    "#Custom made imports\n",
    "import single_particle_sector as sps\n",
    "\n",
    "from time import time"
   ]
  },
  {
   "cell_type": "code",
   "execution_count": 2,
   "metadata": {},
   "outputs": [],
   "source": [
    "###Functions\n",
    "def E_p(p,L,J,h):\n",
    "    #Currently only for PBC or ABC\n",
    "    bc = [\"ABC\",\"PBC\"]\n",
    "    bc = bc[p]\n",
    "    \n",
    "    #Hamiltonian and spectrum\n",
    "    H = sps.H_bdg(h,L,J,bc)\n",
    "    E, U = la.eigh(H)\n",
    "    E = E[L:]\n",
    "    #Ground state correlation matrix\n",
    "    G_gs = sps.G_tfim(U[:,:L])\n",
    "    F = G_gs[:L,L:]\n",
    "    G = G_gs[:L,:L]\n",
    "    M = np.eye(L)-2*(G+F)\n",
    "    #Determine parity\n",
    "    n = la.det(M)*(-1)**L * (-1)**p\n",
    "\n",
    "    return  E,U,n\n",
    "\n",
    "def Z_p(n,E,beta):\n",
    "    #Definition given in first source\n",
    "    Z =  (np.prod(1+np.exp(-beta*2*E))\n",
    "        +n*np.prod(1-np.exp(-2*beta*E)))\n",
    "    return Z/2\n",
    "\n",
    "def ca(n,E,beta,mu):\n",
    "        #Define Positive Energies\n",
    "        #Prefactor\n",
    "        pf = np.exp(-2*beta*E[mu])\n",
    "        #Remove site energy from Partition\n",
    "        E = np.delete(E,mu)\n",
    "        #Calculate\n",
    "        ca_p = (np.prod(1+np.exp(-2*beta*E))-\n",
    "               n*np.prod(1-np.exp(-2*beta*E)))\n",
    "        #Return average of two terms\n",
    "        return pf*ca_p/2\n",
    "def ac(n,E,beta,mu):\n",
    "        #Remove site energy from Partition\n",
    "\n",
    "        E = np.delete(E,mu)\n",
    "\n",
    "        ac_p = (np.prod(1+np.exp(-2*beta*E))+\n",
    "               n*np.prod(1-np.exp(-2*beta*E)))\n",
    "        return ac_p/2\n",
    "\n",
    "def G_th(parities,beta,args):\n",
    "    #Unpack Arguments\n",
    "    L,J,h = args\n",
    "    Z = 0\n",
    "    G = 0\n",
    "    for p in parities:\n",
    "        #Spectrum\n",
    "        E,U,n = E_p(p,L,J,h)\n",
    "        #Partition Function\n",
    "        Z += Z_p(n,E,beta)\n",
    "        #Correlation matrix of Phi Phi_Dagger\n",
    "        N = np.diag([ac(n,E,beta,mu) for mu in range(L)]+[ca(n,E,beta,mu) for mu in range(L)])/Z_p(n,E,beta)\n",
    "        G+= U@N@U.T.conj()*Z_p(n,E,beta)\n",
    "    return G/Z\n",
    "\n",
    "def M(Gi):\n",
    "    \n",
    "    L = np.shape(Gi)[0]//2\n",
    "    G = Gi[:L,:L]\n",
    "    F = Gi[:L,L:]\n",
    "    return np.eye(L)-2*(G+F)\n"
   ]
  },
  {
   "cell_type": "code",
   "execution_count": 3,
   "metadata": {},
   "outputs": [
    {
     "data": {
      "text/plain": [
       "(0.0, 1.0)"
      ]
     },
     "execution_count": 3,
     "metadata": {},
     "output_type": "execute_result"
    },
    {
     "data": {
      "image/png": "[encoded data removed]",
      "text/plain": [
       "<Figure size 640x480 with 1 Axes>"
      ]
     },
     "metadata": {},
     "output_type": "display_data"
    }
   ],
   "source": [
    "L = 50\n",
    "J = -1\n",
    "h = 1\n",
    "beta = 1.111\n",
    "##\n",
    "p = [0,1]\n",
    "h_i = np.linspace(0,2,100)\n",
    "\n",
    "args = [(L,J,h) for h in h_i]\n",
    "G= [G_th(p,beta,argi) for argi in args]\n",
    "\n",
    "plot(h_i,[sps.P_n(2,Gi,L) for Gi in G])\n",
    "plt.ylim(0,1)"
   ]
  },
  {
   "cell_type": "code",
   "execution_count": null,
   "metadata": {},
   "outputs": [
    {
     "data": {
      "text/plain": [
       "np.float64(0.6212693243402093)"
      ]
     },
     "execution_count": 109,
     "metadata": {},
     "output_type": "execute_result"
    }
   ],
   "source": [
    "beta = 0.5\n",
    "plt.plot(Z_p(1,E,beta)"
   ]
  },
  {
   "cell_type": "code",
   "execution_count": 105,
   "metadata": {},
   "outputs": [
    {
     "data": {
      "text/plain": [
       "np.float64(0.37797844785739765)"
      ]
     },
     "execution_count": 105,
     "metadata": {},
     "output_type": "execute_result"
    }
   ],
   "source": [
    "ca(-1,E,beta,0)/Z_p(1,E,beta)"
   ]
  },
  {
   "cell_type": "code",
   "execution_count": null,
   "metadata": {},
   "outputs": [
    {
     "data": {
      "text/plain": [
       "512"
      ]
     },
     "execution_count": 53,
     "metadata": {},
     "output_type": "execute_result"
    }
   ],
   "source": []
  },
  {
   "cell_type": "code",
   "execution_count": null,
   "metadata": {},
   "outputs": [],
   "source": []
  }
 ],
 "metadata": {
  "kernelspec": {
   "display_name": "base",
   "language": "python",
   "name": "python3"
  },
  "language_info": {
   "codemirror_mode": {
    "name": "ipython",
    "version": 3
   },
   "file_extension": ".py",
   "mimetype": "text/x-python",
   "name": "python",
   "nbconvert_exporter": "python",
   "pygments_lexer": "ipython3",
   "version": "3.10.14"
  }
 },
 "nbformat": 4,
 "nbformat_minor": 2
}
