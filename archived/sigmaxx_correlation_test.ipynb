{
 "cells": [
  {
   "cell_type": "code",
   "execution_count": 1,
   "id": "a5bec14f",
   "metadata": {},
   "outputs": [],
   "source": [
    "import sys\n",
    "import os\n",
    "sys.path.append(\"../../../../src/\")\n",
    "#Imports\n",
    "import numpy as np\n",
    "import scipy as sp\n",
    "import numpy.linalg as la\n",
    "import matplotlib.pyplot as plt\n",
    "#Custom made imports\n",
    "import single_particle_sector as sps\n",
    "from time import time\n"
   ]
  },
  {
   "cell_type": "code",
   "execution_count": 2,
   "id": "9da4da19",
   "metadata": {},
   "outputs": [],
   "source": [
    "###GENERAL SIGMA X X \n",
    "def remove_duplicates_in_pairs(vec):\n",
    "    unique_vals, counts = np.unique(vec, return_counts=True)\n",
    "    filtered_vals = unique_vals[counts % 2 != 0]\n",
    "    return filtered_vals.tolist()"
   ]
  },
  {
   "cell_type": "code",
   "execution_count": 3,
   "id": "e7e28669",
   "metadata": {},
   "outputs": [
    {
     "ename": "TypeError",
     "evalue": "sigma_general() missing 1 required positional argument: 'L'",
     "output_type": "error",
     "traceback": [
      "\u001b[31m---------------------------------------------------------------------------\u001b[39m",
      "\u001b[31mTypeError\u001b[39m                                 Traceback (most recent call last)",
      "\u001b[36mCell\u001b[39m\u001b[36m \u001b[39m\u001b[32mIn[3]\u001b[39m\u001b[32m, line 14\u001b[39m\n\u001b[32m     11\u001b[39m G = V @ V.conj().T\n\u001b[32m     12\u001b[39m timer = time()\n\u001b[32m---> \u001b[39m\u001b[32m14\u001b[39m DAT  = \u001b[43msps\u001b[49m\u001b[43m.\u001b[49m\u001b[43msigma_general\u001b[49m\u001b[43m(\u001b[49m\u001b[43mindices\u001b[49m\u001b[43m,\u001b[49m\u001b[43mG\u001b[49m\u001b[43m)\u001b[49m\n\u001b[32m     15\u001b[39m \u001b[38;5;28mprint\u001b[39m(\u001b[33mf\u001b[39m\u001b[33m\"\u001b[39m\u001b[33msigma \u001b[39m\u001b[38;5;132;01m{\u001b[39;00mindices\u001b[38;5;132;01m}\u001b[39;00m\u001b[33m = \u001b[39m\u001b[38;5;132;01m{\u001b[39;00mDAT\u001b[38;5;132;01m}\u001b[39;00m\u001b[33m\"\u001b[39m)\n\u001b[32m     16\u001b[39m TIME1 = time()-timer\n",
      "\u001b[31mTypeError\u001b[39m: sigma_general() missing 1 required positional argument: 'L'"
     ]
    }
   ],
   "source": [
    "indices = np.array([0,9,15,30])\n",
    "\n",
    "L = 100\n",
    "J = -1\n",
    "h = 0.5\n",
    "\n",
    "\n",
    "####CALCULATE OLD WAY\n",
    "E, V = la.eigh(sps.H_bdg(h,L,J))\n",
    "V = V[:,:L]\n",
    "G = V @ V.conj().T\n",
    "timer = time()\n",
    "\n",
    "DAT  = sps.sigma_general(indices,G)\n",
    "print(f\"sigma {indices} = {DAT}\")\n",
    "TIME1 = time()-timer\n",
    "print(f\"computed in {TIME1} sec\")\n",
    "\n"
   ]
  },
  {
   "cell_type": "code",
   "execution_count": 4,
   "id": "4cac3380",
   "metadata": {},
   "outputs": [
    {
     "name": "stdout",
     "output_type": "stream",
     "text": [
      "Sigma [0, 9, 15, 30] = 0.8660256849028556\n",
      "Time = 0.026569128036499023\n"
     ]
    },
    {
     "ename": "NameError",
     "evalue": "name 'DAT' is not defined",
     "output_type": "error",
     "traceback": [
      "\u001b[31m---------------------------------------------------------------------------\u001b[39m",
      "\u001b[31mNameError\u001b[39m                                 Traceback (most recent call last)",
      "\u001b[36mCell\u001b[39m\u001b[36m \u001b[39m\u001b[32mIn[4]\u001b[39m\u001b[32m, line 47\u001b[39m\n\u001b[32m     45\u001b[39m \u001b[38;5;28mprint\u001b[39m(\u001b[33mf\u001b[39m\u001b[33m\"\u001b[39m\u001b[33mSigma \u001b[39m\u001b[38;5;132;01m{\u001b[39;00mindices\u001b[38;5;132;01m}\u001b[39;00m\u001b[33m = \u001b[39m\u001b[38;5;132;01m{\u001b[39;00mDAT2\u001b[38;5;132;01m}\u001b[39;00m\u001b[33m\"\u001b[39m)\n\u001b[32m     46\u001b[39m \u001b[38;5;28mprint\u001b[39m(\u001b[33mf\u001b[39m\u001b[33m\"\u001b[39m\u001b[33mTime = \u001b[39m\u001b[38;5;132;01m{\u001b[39;00mTIME2\u001b[38;5;132;01m}\u001b[39;00m\u001b[33m\"\u001b[39m)\n\u001b[32m---> \u001b[39m\u001b[32m47\u001b[39m \u001b[38;5;28mprint\u001b[39m(\u001b[33mf\u001b[39m\u001b[33m\"\u001b[39m\u001b[33mDelta = \u001b[39m\u001b[38;5;132;01m{\u001b[39;00m\u001b[43mDAT\u001b[49m-DAT2\u001b[38;5;132;01m}\u001b[39;00m\u001b[33m\"\u001b[39m)\n\u001b[32m     48\u001b[39m \u001b[38;5;28mprint\u001b[39m(\u001b[33mf\u001b[39m\u001b[33m\"\u001b[39m\u001b[33mtime save =\u001b[39m\u001b[38;5;132;01m{\u001b[39;00mTIME1-TIME2\u001b[38;5;132;01m}\u001b[39;00m\u001b[33m\"\u001b[39m)\n\u001b[32m     49\u001b[39m \u001b[38;5;28mprint\u001b[39m(\u001b[33mf\u001b[39m\u001b[33m\"\u001b[39m\u001b[33mno eig time save= \u001b[39m\u001b[38;5;132;01m{\u001b[39;00mTIME1-TIME3\u001b[38;5;132;01m}\u001b[39;00m\u001b[33m a which is \u001b[39m\u001b[38;5;132;01m{\u001b[39;00m(TIME1-TIME3)/TIME1\u001b[38;5;132;01m}\u001b[39;00m\u001b[33m% faster\u001b[39m\u001b[33m\"\u001b[39m)\n",
      "\u001b[31mNameError\u001b[39m: name 'DAT' is not defined"
     ]
    }
   ],
   "source": [
    "\n",
    "#Caclulate NEW WAY\n",
    "timer = time()\n",
    "E, V = la.eigh(sps.H_bdg(h,L,J))\n",
    "V = V[:,:L]\n",
    "G = V @ V.conj().T\n",
    "F = G[:L,L:]\n",
    "G = G[:L,:L]\n",
    "M = np.eye(L)- 2*(G+F)\n",
    "#Should only need indices and correlation matrix to calculate\n",
    "\n",
    "\n",
    "#### Function does everything below\n",
    "#Sort Indices and remove duplicates. Always possible due to behaviour of pauli spin matrices\n",
    "timer2 = time()\n",
    "indices = np.sort(indices)\n",
    "indices = remove_duplicates_in_pairs(indices)\n",
    "\n",
    "# Get pairs of sites\n",
    "odd_sites = np.array(indices[::2])\n",
    "even_sites= np.array(indices[1::2])\n",
    "JW_string_lengths = even_sites-odd_sites\n",
    "N = sum(JW_string_lengths)\n",
    "\n",
    "R = []\n",
    "for i in range(0, len(indices), 2):\n",
    "    start = indices[i]\n",
    "    end = indices[i+1]\n",
    "    R.extend(range(start, end+1))\n",
    "\n",
    "A_coords = [x for x in R if x not in odd_sites]\n",
    "B_coords = [x for x in R if x not in even_sites]\n",
    "\n",
    "###Building C\n",
    "C = np.zeros( (N,N))\n",
    "for nx in range(N):\n",
    "    for ny in range(N):\n",
    "        Bx = B_coords[nx]\n",
    "        Ay = A_coords[ny]\n",
    "\n",
    "        C[nx,ny] = M[Bx,Ay]\n",
    "\n",
    "DAT2 = la.det(C)\n",
    "TIME2 = time()-timer\n",
    "TIME3 = time()-timer2\n",
    "print(f\"Sigma {indices} = {DAT2}\")\n",
    "print(f\"Time = {TIME2}\")\n",
    "print(f\"Delta = {DAT-DAT2}\")\n",
    "print(f\"time save ={TIME1-TIME2}\")\n",
    "print(f\"no eig time save= {TIME1-TIME3} a which is {(TIME1-TIME3)/TIME1}% faster\")"
   ]
  },
  {
   "cell_type": "markdown",
   "id": "15de91ea",
   "metadata": {},
   "source": [
    "Holy shit it's 99% faster this way?!?!?"
   ]
  },
  {
   "cell_type": "code",
   "execution_count": 5,
   "id": "740ecde1",
   "metadata": {},
   "outputs": [],
   "source": [
    "##Packaging\n",
    "import numpy as np\n",
    "\n",
    "def random_integer_strings(num_strings, L):\n",
    "    strings = []\n",
    "    for _ in range(num_strings):\n",
    "        length = np.random.randint(1, L+1)\n",
    "        string = np.random.randint(1, L+1, size=length).tolist()\n",
    "        strings.append(string)\n",
    "    return strings\n",
    "\n",
    "\n",
    "def sigma_general(indices,Gi):\n",
    "    \"\"\"\n",
    "    Calculates the expectation values of sigma_x operators put at arbitary sites\"\n",
    "    Inputs:\n",
    "    indices = list of integers\n",
    "    G = 2L x2L correlation matrix corresponding to quantum state of interest\n",
    "\n",
    "    Outputs:\n",
    "    complex scalar \n",
    "\n",
    "    Example:\n",
    "\n",
    "    indices = [1, 2, 3, 4, 5] \n",
    "    sigma_5pt = sigma_general(indices,G)\n",
    "    \"\"\"\n",
    "    #Correlation Matrices\n",
    "    F = Gi[:L,L:]\n",
    "    G = Gi[:L,:L]\n",
    "    #M[x,y] = <BxAy>\n",
    "    M = np.eye(L)- 2*(G+F)\n",
    "    #Sigma matrices on different sites commute\n",
    "    indices = np.sort(indices)\n",
    "    #Remove any duplicates as sigma_x^2 = 1\n",
    "    indices = remove_duplicates_in_pairs(indices)\n",
    "    if len(indices)%2 == 1:\n",
    "        constant = 10\n",
    "        indices = list(indices) + [x + constant for x in indices]\n",
    "        return np.sqrt(np.abs(sigma_general(indices,Gi)))\n",
    "    \n",
    "    #Bs sit on odd sites\n",
    "    odd_sites = np.array(indices[::2])\n",
    "    #As site on even sites\n",
    "    even_sites= np.array(indices[1::2])\n",
    "    #Get string lengths\n",
    "    JW_string_lengths = even_sites-odd_sites\\\n",
    "    #Sum of string lengths is size of matrix needed\n",
    "    N = sum(JW_string_lengths)\n",
    "    #Fill in indices for strings\n",
    "    R = []\n",
    "    for i in range(0, len(indices), 2):\n",
    "        start = indices[i]\n",
    "        end = indices[i+1]\n",
    "        R.extend(range(start, end+1))\n",
    "\n",
    "    A_coords = [x for x in R if x not in odd_sites]\n",
    "    B_coords = [x for x in R if x not in even_sites]\n",
    "\n",
    "    ###Building C\n",
    "    C = np.zeros( (N,N))\n",
    "    for nx in range(N):\n",
    "        for ny in range(N):\n",
    "            Bx = B_coords[nx]\n",
    "            Ay = A_coords[ny]\n",
    "\n",
    "            C[nx,ny] = M[Bx,Ay]\n",
    "\n",
    "    return la.det(C)"
   ]
  },
  {
   "cell_type": "code",
   "execution_count": 6,
   "id": "53234c82",
   "metadata": {},
   "outputs": [
    {
     "name": "stdout",
     "output_type": "stream",
     "text": [
      "-1.0000000000000002\n",
      "0.00024700164794921875\n"
     ]
    }
   ],
   "source": [
    "L = 100\n",
    "J = 1\n",
    "h = 0\n",
    "E, V = la.eigh(sps.H_bdg(h,L,J))\n",
    "V = V[:,:L]\n",
    "G = V @ V.conj().T\n",
    "indices=[1,2]\n",
    "timer = time()\n",
    "\n",
    "timer = time()\n",
    "print(sps.sigma_general(indices,G,L))\n",
    "print(time()-timer)\n"
   ]
  },
  {
   "cell_type": "code",
   "execution_count": 7,
   "id": "99c098e9",
   "metadata": {},
   "outputs": [
    {
     "name": "stdout",
     "output_type": "stream",
     "text": [
      "[ 0  1  2  3  4  5  6  7  8  9 10 11 12 13]\n"
     ]
    }
   ],
   "source": [
    "n = np.array([i for i in range(14)])\n",
    "print(n)\n",
    "times = []\n",
    "for ni in n:\n",
    "    timer = time()\n",
    "    sps.P_n(ni,G,L)\n",
    "    times.append(time()-timer)\n",
    "times = np.array(times)"
   ]
  },
  {
   "cell_type": "code",
   "execution_count": 8,
   "id": "055d94ff",
   "metadata": {},
   "outputs": [
    {
     "data": {
      "text/plain": [
       "np.float64(3.37890625)"
      ]
     },
     "execution_count": 8,
     "metadata": {},
     "output_type": "execute_result"
    }
   ],
   "source": [
    "times[0]*2**(14)"
   ]
  },
  {
   "cell_type": "code",
   "execution_count": 9,
   "id": "186176ac",
   "metadata": {},
   "outputs": [
    {
     "name": "stdout",
     "output_type": "stream",
     "text": [
      "[[9, 8, 4, 6, 1, 2, 6, 10, 9], [9, 6, 2, 5, 6, 6, 2, 10, 7], [2, 9, 3], [6, 9, 5, 4, 6], [5, 6, 3, 1]]\n"
     ]
    }
   ],
   "source": [
    "\n",
    "# Example usage:\n",
    "MAX = 10\n",
    "num_strings = 5\n",
    "random_strings = random_integer_strings(num_strings, MAX)\n",
    "print(random_strings)\n"
   ]
  },
  {
   "cell_type": "code",
   "execution_count": 10,
   "id": "74d9dcdd",
   "metadata": {},
   "outputs": [
    {
     "ename": "NameError",
     "evalue": "name 'x' is not defined",
     "output_type": "error",
     "traceback": [
      "\u001b[31m---------------------------------------------------------------------------\u001b[39m",
      "\u001b[31mNameError\u001b[39m                                 Traceback (most recent call last)",
      "\u001b[36mCell\u001b[39m\u001b[36m \u001b[39m\u001b[32mIn[10]\u001b[39m\u001b[32m, line 13\u001b[39m\n\u001b[32m     11\u001b[39m E,V = la.eigh(H)\n\u001b[32m     12\u001b[39m G = sps.G_tfim(V[:,:L])\n\u001b[32m---> \u001b[39m\u001b[32m13\u001b[39m dat.append(\u001b[43msps\u001b[49m\u001b[43m.\u001b[49m\u001b[43mP_n\u001b[49m\u001b[43m(\u001b[49m\u001b[32;43m2\u001b[39;49m\u001b[43m,\u001b[49m\u001b[43mG\u001b[49m\u001b[43m,\u001b[49m\u001b[43mL\u001b[49m\u001b[43m)\u001b[49m)\n\u001b[32m     14\u001b[39m dat2.append(sps.P_n(\u001b[32m4\u001b[39m,G,L))\n\u001b[32m     15\u001b[39m \u001b[38;5;66;03m#dat3.append(sps.P_n(8,G))\u001b[39;00m\n",
      "\u001b[36mFile \u001b[39m\u001b[32m~/Desktop/Subsystem Loschmidt Echo/subsystem_loschmidt_echo/scripts/mutual_info/exact_diag/Adiabatic Tests/../../../../src/single_particle_sector.py:274\u001b[39m, in \u001b[36mP_n\u001b[39m\u001b[34m(n, G, L)\u001b[39m\n\u001b[32m    272\u001b[39m \u001b[38;5;66;03m##ADDITION\u001b[39;00m\n\u001b[32m    273\u001b[39m     x_c = []\n\u001b[32m--> \u001b[39m\u001b[32m274\u001b[39m     \u001b[38;5;28;01mfor\u001b[39;00m a \u001b[38;5;129;01min\u001b[39;00m \u001b[43mx\u001b[49m:\n\u001b[32m    275\u001b[39m         x_c.append(a - a[\u001b[32m0\u001b[39m])\n\u001b[32m    277\u001b[39m     corrs, degen = unique_elements_and_frequencies(x_c)\n",
      "\u001b[31mNameError\u001b[39m: name 'x' is not defined"
     ]
    }
   ],
   "source": [
    "#Initialize Test\n",
    "J = 1\n",
    "L = 150\n",
    "h_i = np.linspace(0,2,100)\n",
    "\n",
    "dat = []\n",
    "dat2= []\n",
    "dat3= []\n",
    "for h in h_i:\n",
    "    H = sps.H_bdg(h,L,J)\n",
    "    E,V = la.eigh(H)\n",
    "    G = sps.G_tfim(V[:,:L])\n",
    "    dat.append(sps.P_n(2,G,L))\n",
    "    dat2.append(sps.P_n(4,G,L))\n",
    "    #dat3.append(sps.P_n(8,G))\n",
    "plt.plot(h_i,dat, label = \"P_n(2)\")\n",
    "plt.plot(h_i,dat2, label = \"P_n(4)\")\n",
    "#plt.plot(h_i,dat3, label = \"P_n(8)\")\n",
    "plt.legend()\n",
    "plt.xlabel(\"h\")\n",
    "plt.ylabel(\"P_n\")\n",
    "plt.vlines(1,0,.5, color = \"black\", linestyle = \"--\")\n",
    "plt.xlim(h_i[0],h_i[-1])\n",
    "plt.ylim(0,1)"
   ]
  },
  {
   "cell_type": "code",
   "execution_count": null,
   "id": "4101abdf",
   "metadata": {},
   "outputs": [],
   "source": []
  }
 ],
 "metadata": {
  "kernelspec": {
   "display_name": "base",
   "language": "python",
   "name": "python3"
  },
  "language_info": {
   "codemirror_mode": {
    "name": "ipython",
    "version": 3
   },
   "file_extension": ".py",
   "mimetype": "text/x-python",
   "name": "python",
   "nbconvert_exporter": "python",
   "pygments_lexer": "ipython3",
   "version": "3.12.3"
  }
 },
 "nbformat": 4,
 "nbformat_minor": 5
}
