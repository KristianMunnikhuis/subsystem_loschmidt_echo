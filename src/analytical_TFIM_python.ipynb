{
 "cells": [
  {
   "cell_type": "markdown",
   "metadata": {},
   "source": [
    "This file needs some work. For some reason it creates close (but not exactly) correct values for P_n."
   ]
  },
  {
   "cell_type": "code",
   "execution_count": 1,
   "metadata": {},
   "outputs": [
    {
     "ename": "NameError",
     "evalue": "name 'k' is not defined",
     "output_type": "error",
     "traceback": [
      "\u001b[0;31m---------------------------------------------------------------------------\u001b[0m",
      "\u001b[0;31mNameError\u001b[0m                                 Traceback (most recent call last)",
      "Cell \u001b[0;32mIn[1], line 120\u001b[0m\n\u001b[1;32m    113\u001b[0m     l \u001b[38;5;241m=\u001b[39m j \u001b[38;5;241m-\u001b[39m i\n\u001b[1;32m    114\u001b[0m     \u001b[38;5;28;01mreturn\u001b[39;00m \u001b[38;5;241m1\u001b[39mj \u001b[38;5;241m*\u001b[39m (\u001b[38;5;241m-\u001b[39maa(l, t) \u001b[38;5;241m-\u001b[39m ac(l, t) \u001b[38;5;241m+\u001b[39m ca(l, t) \u001b[38;5;241m+\u001b[39m cc(l, t))\n\u001b[0;32m--> 120\u001b[0m \u001b[43mBA\u001b[49m\u001b[43m(\u001b[49m\u001b[38;5;241;43m0\u001b[39;49m\u001b[43m,\u001b[49m\u001b[38;5;241;43m1\u001b[39;49m\u001b[43m,\u001b[49m\u001b[38;5;241;43m0\u001b[39;49m\u001b[43m)\u001b[49m\n",
      "Cell \u001b[0;32mIn[1], line 114\u001b[0m, in \u001b[0;36mBA\u001b[0;34m(i, j, t)\u001b[0m\n\u001b[1;32m    112\u001b[0m \u001b[38;5;28;01mdef\u001b[39;00m \u001b[38;5;21mBA\u001b[39m(i, j, t):\n\u001b[1;32m    113\u001b[0m     l \u001b[38;5;241m=\u001b[39m j \u001b[38;5;241m-\u001b[39m i\n\u001b[0;32m--> 114\u001b[0m     \u001b[38;5;28;01mreturn\u001b[39;00m \u001b[38;5;241m1\u001b[39mj \u001b[38;5;241m*\u001b[39m (\u001b[38;5;241m-\u001b[39m\u001b[43maa\u001b[49m\u001b[43m(\u001b[49m\u001b[43ml\u001b[49m\u001b[43m,\u001b[49m\u001b[43m \u001b[49m\u001b[43mt\u001b[49m\u001b[43m)\u001b[49m \u001b[38;5;241m-\u001b[39m ac(l, t) \u001b[38;5;241m+\u001b[39m ca(l, t) \u001b[38;5;241m+\u001b[39m cc(l, t))\n",
      "Cell \u001b[0;32mIn[1], line 85\u001b[0m, in \u001b[0;36maa\u001b[0;34m(l, t)\u001b[0m\n\u001b[1;32m     84\u001b[0m \u001b[38;5;28;01mdef\u001b[39;00m \u001b[38;5;21maa\u001b[39m(l,t):\n\u001b[0;32m---> 85\u001b[0m     phases \u001b[38;5;241m=\u001b[39m np\u001b[38;5;241m.\u001b[39mexp(\u001b[38;5;241m-\u001b[39m\u001b[38;5;241m1\u001b[39mj\u001b[38;5;241m*\u001b[39ml\u001b[38;5;241m*\u001b[39m\u001b[43mk\u001b[49m)\n\u001b[1;32m     86\u001b[0m     \u001b[38;5;28;01mreturn\u001b[39;00m np\u001b[38;5;241m.\u001b[39msum( A(k,t,h1,h2,J)\u001b[38;5;241m*\u001b[39mB(\u001b[38;5;241m-\u001b[39mk,t,h1,h2,J)\u001b[38;5;241m*\u001b[39mphases )\u001b[38;5;241m/\u001b[39m\u001b[38;5;28mlen\u001b[39m(k)\n",
      "\u001b[0;31mNameError\u001b[0m: name 'k' is not defined"
     ]
    }
   ],
   "source": [
    "import numpy as np\n",
    "import matplotlib.pyplot as plt\n",
    "\n",
    "\n",
    "#TFIM Functions\n",
    "\n",
    "#Diagonal Dispersion\n",
    "def Epsilon_0(k, J, h):\n",
    "    \"\"\"\n",
    "    Calculate the diagonal dispersion relation for the TFIM.\n",
    "    \n",
    "    Parameters:\n",
    "    k (float): The wave vector.\n",
    "    J (float): The coupling constant.\n",
    "    h (float): The transverse field strength.\n",
    "    \n",
    "    Returns:\n",
    "    float: The diagonal dispersion relation.\n",
    "    \"\"\"\n",
    "    return 2*h-2*J*np.cos(k)\n",
    "\n",
    "#Full Dispersion\n",
    "def Epsilon_h(k, J, h):\n",
    "    \"\"\"\n",
    "    Calculate the full dispersion relation for the TFIM.\n",
    "    \n",
    "    Parameters:\n",
    "    k (float): The wave vector.\n",
    "    J (float): The coupling constant.\n",
    "    h (float): The transverse field strength.\n",
    "    \n",
    "    Returns:\n",
    "    float: The full dispersion relation.\n",
    "    \"\"\"\n",
    "    return np.sqrt(Epsilon_0(k,J,h)**2+4*J**2*np.sin(k)**2)\n",
    "\n",
    "\n",
    "#Diagonalization Angle\n",
    "\n",
    "def Theta(k, J, h):\n",
    "    \"\"\"\n",
    "    Calculate the diagonalization angle for the TFIM.\n",
    "    \n",
    "    Parameters:\n",
    "    k (float): The wave vector.\n",
    "    J (float): The coupling constant.\n",
    "    h (float): The transverse field strength.\n",
    "    \n",
    "    Returns:\n",
    "    float: The diagonalization angle.\n",
    "    \"\"\"\n",
    " #   return (Epsilon_0(k,J,h)+2j*J*np.sin(k))/Epsilon_h(k,J,h) \n",
    "    return np.real(-1j*np.log( (Epsilon_0(k,J,h)+2j*J*np.sin(k))/Epsilon_h(k,J,h) ) )\n",
    "\n",
    "def Delta(k,h1,h2,J):\n",
    "    \"\"\"\n",
    "    Calculate the difference in angle  for the TFIM.\n",
    "    \n",
    "    Parameters:\n",
    "    k (float): The wave vector.\n",
    "    h1 (float): The first transverse field strength.\n",
    "    h2 (float): The second transverse field strength.\n",
    "    J (float): The coupling constant.\n",
    "    \n",
    "    Returns:\n",
    "    float: The angle differnce\n",
    "    \"\"\"\n",
    "    return Theta(k,J,h2)-Theta(k,J,h1)\n",
    "\n",
    "#Bogoliouv Amplitudes\n",
    "\n",
    "def A(k,t,h1,h2,J):\n",
    "    th = Theta(k,J,h2)\n",
    "    delta = Delta(k,h1,h2,J)\n",
    "    eps = Epsilon_h(k,J,h2)\n",
    "    return np.cos(th/2)*np.cos(delta/2)*np.exp(-1j*eps*t) + np.sin(th/2)*np.sin(delta/2)*np.exp(1j*eps*t)\n",
    "def B(k,t,h1,h2,J):\n",
    "    th = Theta(k,J,h2)\n",
    "    delta = Delta(k,h1,h2,J)\n",
    "    eps = Epsilon_h(k,J,h2)\n",
    "    return 1j*np.sin(th/2)*np.cos(delta/2)*np.exp(1j*eps*t) - 1j*np.cos(th/2)*np.sin(delta/2)*np.exp(-1j*eps*t)\n",
    "\n",
    "\n",
    "def aa(l,t):\n",
    "    phases = np.exp(-1j*l*k)\n",
    "    return np.sum( A(k,t,h1,h2,J)*B(-k,t,h1,h2,J)*phases )/len(k)\n",
    "\n",
    "def cc(l,t):\n",
    "    phases = np.exp(-1j*l*k)\n",
    "    return np.sum( np.conj(A(k,t,h1,h2,J))*np.conj(B(-k,t,h1,h2,J))*phases )/len(k)\n",
    "\n",
    "def ca(l,t):\n",
    "    phases = np.exp(1j*l*k)\n",
    "    return np.sum( B(k,t,h1,h2,J)*np.conj(B(k,t,h1,h2,J))*phases )/len(k)    \n",
    "\n",
    "def ac(l,t):\n",
    "    phases = np.exp(1j*l*k)\n",
    "    return np.sum( A(k,t,h1,h2,J)*np.conj(A(k,t,h1,h2,J))*phases )/len(k)\n",
    "#Majorna Fermion Representation\n",
    "def AA(i,j,t):\n",
    "    l = j-i\n",
    "    return cc(l,t)+ca(l,t)+ac(l,t)+aa(l,t)\n",
    "\n",
    "def BB(i,j,t):\n",
    "    l = j-i\n",
    "    return -cc(l,t)-aa(l,t)+ca(l,t)+ac(l,t)\n",
    "\n",
    "def AB(i,j,t):\n",
    "    l = j-i\n",
    "    return 1j*(-aa(l,t)+ac(l,t)-ca(l,t)+cc(l,t)) \n",
    "\n",
    "def BA(i, j, t):\n",
    "    l = j - i\n",
    "    return 1j * (-aa(l, t) - ac(l, t) + ca(l, t) + cc(l, t))\n",
    "\n",
    "\n",
    "\n",
    "\n",
    "\n",
    "BA(0,1,0)"
   ]
  },
  {
   "cell_type": "code",
   "execution_count": null,
   "metadata": {},
   "outputs": [
    {
     "data": {
      "text/plain": [
       "[<matplotlib.lines.Line2D at 0x7f806faad1b0>]"
      ]
     },
     "execution_count": 213,
     "metadata": {},
     "output_type": "execute_result"
    },
    {
     "data": {
      "image/png": "[encoded data removed]",
      "text/plain": [
       "<Figure size 640x480 with 1 Axes>"
      ]
     },
     "metadata": {},
     "output_type": "display_data"
    }
   ],
   "source": [
    "h1 = 1.5\n",
    "h2 = 0\n",
    "J =1 \n",
    "L= 20\n",
    "k = np.array([2*np.pi*(n+1/2)/L for n in range(0,L)])\n",
    "times = np.linspace(0,5,100)\n",
    "plt.plot(times,[abs(AB(0,1,ti)) for ti in times])"
   ]
  },
  {
   "cell_type": "code",
   "execution_count": 214,
   "metadata": {},
   "outputs": [],
   "source": [
    "import numpy as np\n",
    "\n",
    "def construct_M_matrix(fermion_operators, t):\n",
    "    \"\"\"\n",
    "    Construct the antisymmetric M matrix for a list of fermionic operators.\n",
    "\n",
    "    Parameters:\n",
    "    fermion_operators : list of tuples\n",
    "        Each tuple is (site index, operator type), e.g., (i, 'A') or (j, 'B')\n",
    "    t : float\n",
    "        Time parameter\n",
    "    correlation_function : function\n",
    "        A function taking (op1, op2, t) and returning ⟨f_i f_j⟩\n",
    "\n",
    "    Returns:\n",
    "    M : np.ndarray\n",
    "        Antisymmetric complex matrix\n",
    "    \"\"\"\n",
    "    l = len(fermion_operators)\n",
    "    M = np.zeros((l, l), dtype=np.complex128)\n",
    "\n",
    "    for mu in range(l):\n",
    "        for nu in range(mu + 1, l):\n",
    "            op1 = fermion_operators[mu]\n",
    "            op2 = fermion_operators[nu]\n",
    "            M[mu, nu] = correlation_function(op1, op2, t)\n",
    "            M[nu, mu] = -M[mu, nu]\n",
    "\n",
    "    return M\n"
   ]
  },
  {
   "cell_type": "code",
   "execution_count": 215,
   "metadata": {},
   "outputs": [],
   "source": [
    "def correlation_function(op_string_1, op_string_2, t):\n",
    "    #Unpack\n",
    "    i, op1 = op_string_1\n",
    "    j, op2 = op_string_2\n",
    "    ##Compute Correlations\n",
    "    if op1 == \"A\" and op2 == \"A\":\n",
    "        return AA(i,j, t)  # ⟨A_i A_j⟩\n",
    "    elif op1 == \"B\" and op2 == \"B\":\n",
    "        return BB(i,j,t)  # ⟨B_i,B_j⟩\n",
    "    elif op1 == \"A\" and op2 == \"B\":\n",
    "        return AB(i,j,t)  # ⟨A_i A_j⟩\n",
    "    elif op1 == \"B\" and op2 == \"A\":\n",
    "        return BA(i,j,t) # ⟨B_i A_j⟩\n"
   ]
  },
  {
   "cell_type": "code",
   "execution_count": 216,
   "metadata": {},
   "outputs": [],
   "source": [
    "\n",
    "def remove_duplicates_in_pairs(vec):\n",
    "    counts = Counter(vec)\n",
    "    filtered_vals = [val for val, freq in counts.items() if freq % 2 != 0]\n",
    "    return filtered_vals\n",
    "\n",
    "def sigma_general(indices,t):\n",
    "    #All odd operators are zero if h1>1\n",
    "    if len(indices)%2 ==1:\n",
    "        return 0\n",
    "\n",
    "\n",
    "    #Takes in Indices which should be general. E.G. \n",
    "    #indices = [1,2,3,4,5] will compute the 5 point function\n",
    "\n",
    "    indices = np.sort(indices)\n",
    "\n",
    "\n",
    "    indices = remove_duplicates_in_pairs(indices)\n",
    "    #If there are no indices left then the answer is 1\n",
    "        #This is because the expectation value of <sigma^2> = 1\n",
    "    if len(indices)==0:\n",
    "        return 1\n",
    "\n",
    "    #Build String List\n",
    "    string_list = []\n",
    "\n",
    "    for i in range(len(indices)):\n",
    "        if i % 2 == 0:\n",
    "            string_list.append((indices[i], \"B\"))\n",
    "        else:\n",
    "            string_list.append((indices[i], \"A\"))\n",
    "\n",
    "        #Inter-Term Strings\n",
    "        #Inter-Term Strings are formed by pairs of sigma_x\n",
    "        #Eg. <sigma_i sigma_j> has a string between i+1:j-1 \n",
    "        #Since we sorted already, we can go forward in steps of 2\n",
    "    pf = (-1j)**(len(indices)//2)\n",
    "     \n",
    "     \n",
    "    for i in range(0, len(indices) - 1, 2):\n",
    "        for a in range(indices[i] + 1, indices[i + 1]):\n",
    "            pf *= 1j\n",
    "            string_list.append((a, \"B\"))\n",
    "            string_list.append((a, \"A\"))\n",
    "\n",
    "    M = construct_M_matrix(string_list,t)\n",
    "\n",
    "\n",
    "    f= np.linalg.det(M*pf)\n",
    "\n",
    "    return np.sqrt(np.real(f))\n",
    "      "
   ]
  },
  {
   "cell_type": "code",
   "execution_count": 286,
   "metadata": {},
   "outputs": [
    {
     "data": {
      "text/plain": [
       "[<matplotlib.lines.Line2D at 0x7f80774e6ad0>]"
      ]
     },
     "execution_count": 286,
     "metadata": {},
     "output_type": "execute_result"
    },
    {
     "data": {
      "image/png": "[encoded data removed]",
      "text/plain": [
       "<Figure size 640x480 with 1 Axes>"
      ]
     },
     "metadata": {},
     "output_type": "display_data"
    }
   ],
   "source": [
    "h1 = 0\n",
    "h2 = 2\n",
    "J =1 \n",
    "L= 20\n",
    "k = np.array([2*np.pi*(n+1/2)/L for n in range(0,L)])\n",
    "times = np.linspace(0,5,100)\n",
    "J =1 \n",
    "h_i = np.linspace(0,2,50)\n",
    "\n",
    "dat =[]\n",
    "dat2=[]\n",
    "dat3=[]\n",
    "for hi in h_i:\n",
    "    h1 = hi\n",
    "    dat.append(P_n(2,0))\n",
    "    dat2.append(P_n(3,0))\n",
    "    dat3.append(P_n(4,0))\n",
    "\n",
    "plt.plot(dat)\n",
    "plt.plot(dat2)\n",
    "plt.plot(dat3)"
   ]
  },
  {
   "cell_type": "code",
   "execution_count": null,
   "metadata": {},
   "outputs": [],
   "source": []
  },
  {
   "cell_type": "code",
   "execution_count": null,
   "metadata": {},
   "outputs": [],
   "source": [
    "\n",
    "from collections import Counter\n"
   ]
  },
  {
   "cell_type": "code",
   "execution_count": null,
   "metadata": {},
   "outputs": [],
   "source": [
    "from itertools import combinations\n",
    "\n",
    "def binomial_expansion(indices):\n",
    "    return list(combinations(indices, 2))\n",
    "\n",
    "\n",
    "def unique_elements_and_frequencies(vec):\n",
    "    counter = Counter(vec)\n",
    "    unique_vals = list(counter.keys())\n",
    "    freqs = list(counter.values())\n",
    "    return unique_vals, freqs\n",
    "\n",
    "    \n"
   ]
  },
  {
   "cell_type": "code",
   "execution_count": 285,
   "metadata": {},
   "outputs": [
    {
     "data": {
      "text/plain": [
       "np.float64(0.13014417250556895)"
      ]
     },
     "execution_count": 285,
     "metadata": {},
     "output_type": "execute_result"
    }
   ],
   "source": [
    "from itertools import combinations\n",
    "import numpy as np\n",
    "\n",
    "def P_n(n, t):\n",
    "    indices = list(range(1, n + 1))\n",
    "    x = []\n",
    "    for r in range(1, len(indices)+1):\n",
    "        x.extend(combinations(indices, r))\n",
    "\n",
    "    x_c = []\n",
    "    for a in x:\n",
    "        shifted = tuple(np.array(a) - a[0])\n",
    "        x_c.append(shifted)\n",
    "\n",
    "    corrs, degen = unique_elements_and_frequencies(x_c)\n",
    "\n",
    "    P = 1\n",
    "    for i in range(len(corrs)):\n",
    "        P += degen[i] * sigma_general(corrs[i], t)\n",
    "\n",
    "    return P / (2 ** n)\n",
    "\n",
    "P_n(4,0)\n"
   ]
  },
  {
   "cell_type": "code",
   "execution_count": 298,
   "metadata": {},
   "outputs": [],
   "source": [
    "L = 20\n",
    "h1 =0\n",
    "h2 =0.\n",
    "k = np.array([2*np.pi*(n+1/2)/L for n in range(0,L-1)])\n",
    "h_final = np.linspace(0,2,25)\n",
    "dat = []\n",
    "dat2= []\n",
    "dat3= []\n",
    "dat4= []\n",
    "dat5= []\n",
    "dat6= []\n",
    "for hi in h_final:\n",
    "    h1 = hi\n",
    "    dat.append(P_n(1,0))\n",
    "    dat2.append(P_n(2,0))\n",
    "    dat3.append(P_n(3,0))\n",
    "    dat4.append(P_n(4,0))\n",
    "    dat5.append(P_n(5,0))\n",
    "    dat6.append(P_n(6,0))\n",
    "dat=np.array(dat)\n",
    "dat2=np.array(dat2)\n",
    "dat3=np.array(dat3)\n",
    "dat4=np.array(dat4)\n",
    "dat5=np.array(dat5)\n",
    "dat6=np.array(dat6)"
   ]
  },
  {
   "cell_type": "code",
   "execution_count": 301,
   "metadata": {},
   "outputs": [
    {
     "data": {
      "text/plain": [
       "array([0.49934037, 0.49866903, 0.49663335, 0.49318667, 0.48825099,\n",
       "       0.48171206, 0.47341238, 0.46314236, 0.45062928, 0.4354998 ,\n",
       "       0.41707385, 0.39377915, 0.36475532, 0.33669788, 0.3151001 ,\n",
       "       0.2985044 , 0.28510319, 0.27392595, 0.26441944, 0.25622246,\n",
       "       0.24907784, 0.24279357, 0.23722224, 0.23224847, 0.22778057])"
      ]
     },
     "execution_count": 301,
     "metadata": {},
     "output_type": "execute_result"
    }
   ],
   "source": [
    "dat3\n"
   ]
  },
  {
   "cell_type": "code",
   "execution_count": 169,
   "metadata": {},
   "outputs": [
    {
     "data": {
      "text/plain": [
       "np.float64(0.49996693288833566)"
      ]
     },
     "execution_count": 169,
     "metadata": {},
     "output_type": "execute_result"
    }
   ],
   "source": [
    "h1=0\n",
    "P_n(2,0)"
   ]
  },
  {
   "cell_type": "code",
   "execution_count": 304,
   "metadata": {},
   "outputs": [
    {
     "name": "stderr",
     "output_type": "stream",
     "text": [
      "The latest version of Julia in the `release` channel is 1.11.5+0.x64.apple.darwin14. You currently have `1.11.4+0.x64.apple.darwin14` installed. Run:\n",
      "\n",
      "  juliaup update\n",
      "\n",
      "in your terminal shell to install Julia 1.11.5+0.x64.apple.darwin14 and update the `release` channel to that version.\n",
      "[ Info: Julia version info\n"
     ]
    },
    {
     "name": "stdout",
     "output_type": "stream",
     "text": [
      "Julia Version 1.11.4\n",
      "Commit 8561cc3d68d (2025-03-10 11:36 UTC)\n",
      "Build Info:\n",
      "  Official https://julialang.org/ release\n",
      "Platform Info:\n",
      "  OS: macOS (x86_64-apple-darwin24.0.0)\n",
      "  uname: Darwin 20.6.0 Darwin Kernel Version 20.6.0: Tue Feb 22 21:10:41 PST 2022; root:xnu-7195.141.26~1/RELEASE_X86_64 x86_64 i386\n",
      "  CPU: Intel(R) Core(TM) i5-8257U CPU @ 1.40GHz: \n",
      "              speed         user         nice          sys         idle          irq\n",
      "       #1  1400 MHz      78244 s          0 s      58531 s     587421 s          0 s\n",
      "       #2  1400 MHz       5464 s          0 s       5756 s     712938 s          0 s\n",
      "       #3  1400 MHz      69818 s          0 s      50648 s     603692 s          0 s\n",
      "       #4  1400 MHz       5256 s          0 s       5106 s     713795 s          0 s\n",
      "       #5  1400 MHz      56678 s          0 s      37688 s     629791 s          0 s\n",
      "       #6  1400 MHz       5254 s          0 s       4742 s     714161 s          0 s\n",
      "       #7  1400 MHz      49636 s          0 s      32306 s     642215 s          0 s\n",
      "       #8  1400 MHz       5284 s          0 s       4513 s     714359 s          0 s\n",
      "  Memory: 8.0 GB (191.30078125 MB free)\n",
      "  Uptime: 266823.0 sec\n",
      "  Load Avg:  3.35888671875  3.24609375  3.1298828125\n",
      "  WORD_SIZE: 64\n",
      "  LLVM: libLLVM-16.0.6 (ORCJIT, skylake)\n",
      "Threads: 1 default, 0 interactive, 1 GC (on 8 virtual cores)\n",
      "Environment:\n",
      "  HOME = /Users/kristianmunnikhuis\n",
      "  PATH = /opt/anaconda3/bin:/Users/kristianmunnikhuis/.juliaup/bin:/opt/anaconda3/bin:/opt/anaconda3/condabin:/Library/Frameworks/Python.framework/Versions/3.12/bin:/usr/local/bin:/usr/bin:/bin:/usr/sbin:/sbin\n",
      "  VSCODE_CODE_CACHE_PATH = /Users/kristianmunnikhuis/Library/Application Support/Code/CachedData/e54c774e0add60467559eb0d1e229c6452cf8447\n",
      "  XPC_FLAGS = 0x0\n",
      "  TERM = xterm-color\n"
     ]
    },
    {
     "name": "stderr",
     "output_type": "stream",
     "text": [
      "[ Info: Julia executable: /Users/kristianmunnikhuis/.julia/juliaup/julia-1.11.4+0.x64.apple.darwin14/bin/julia\n",
      "[ Info: Trying to import PyCall...\n",
      "┌ Error: `import PyCall` failed\n",
      "│   exception =\n",
      "│    ArgumentError: Package PyCall [438e738f-606a-5dbb-bf0a-cddfbfd45ab0] is required but does not seem to be installed:\n",
      "│     - Run `Pkg.instantiate()` to install all recorded dependencies.\n",
      "│    \n",
      "│    Stacktrace:\n",
      "│      [1] _require(pkg::Base.PkgId, env::Nothing)\n",
      "│        @ Base ./loading.jl:2515\n",
      "│      [2] __require_prelocked(uuidkey::Base.PkgId, env::Nothing)\n",
      "│        @ Base ./loading.jl:2388\n",
      "│      [3] #invoke_in_world#3\n",
      "│        @ ./essentials.jl:1089 [inlined]\n",
      "│      [4] invoke_in_world\n",
      "│        @ ./essentials.jl:1086 [inlined]\n",
      "│      [5] _require_prelocked\n",
      "│        @ ./loading.jl:2375 [inlined]\n",
      "│      [6] _require_prelocked\n",
      "│        @ ./loading.jl:2374 [inlined]\n",
      "│      [7] macro expansion\n",
      "│        @ ./lock.jl:273 [inlined]\n",
      "│      [8] require(uuidkey::Base.PkgId)\n",
      "│        @ Base ./loading.jl:2371\n",
      "│      [9] top-level scope\n",
      "│        @ /opt/anaconda3/lib/python3.10/site-packages/julia/install.jl:36\n",
      "│     [10] include(mod::Module, _path::String)\n",
      "│        @ Base ./Base.jl:557\n",
      "│     [11] exec_options(opts::Base.JLOptions)\n",
      "│        @ Base ./client.jl:323\n",
      "│     [12] _start()\n",
      "│        @ Base ./client.jl:531\n",
      "└ @ Main /opt/anaconda3/lib/python3.10/site-packages/julia/install.jl:38\n",
      "[ Info: Installing PyCall...\n",
      "    Updating registry at `~/.julia/registries/General.toml`\n",
      "   Resolving package versions...\n",
      "   Installed PyCall ─ v1.96.4\n",
      "    Updating `~/.julia/environments/v1.11/Project.toml`\n",
      "  [438e738f] + PyCall v1.96.4\n",
      "    Updating `~/.julia/environments/v1.11/Manifest.toml`\n",
      "  [438e738f] + PyCall v1.96.4\n",
      "    Building PyCall → `~/.julia/scratchspaces/44cfe95a-1eb2-52ea-b672-e2afdf69b78f/9816a3826b0ebf49ab4926e2b18842ad8b5c8f04/build.log`\n",
      "Precompiling project...\n",
      "  13420.5 ms  ✓ PyCall\n",
      "  1 dependency successfully precompiled in 16 seconds. 293 already precompiled.\n",
      "\n",
      "Precompiling PyCall...\n",
      "The latest version of Julia in the `release` channel is 1.11.5+0.x64.apple.darwin14. You currently have `1.11.4+0.x64.apple.darwin14` installed. Run:\n",
      "\n",
      "  juliaup update\n",
      "\n",
      "in your terminal shell to install Julia 1.11.5+0.x64.apple.darwin14 and update the `release` channel to that version.\n",
      "Precompiling PyCall... DONE\n",
      "PyCall is installed and built successfully.\n"
     ]
    }
   ],
   "source": [
    "import julia\n",
    "julia.install()"
   ]
  },
  {
   "cell_type": "code",
   "execution_count": 329,
   "metadata": {},
   "outputs": [],
   "source": [
    "import numpy as np\n",
    "\n",
    "data = np.genfromtxt(\"../test.txt\", delimiter=\"\\t\", dtype=complex, skip_header=1)\n",
    "x_vals = np.genfromtxt(\"../test.txt\", delimiter=\"\\t\", max_rows=1)\n"
   ]
  },
  {
   "cell_type": "code",
   "execution_count": 335,
   "metadata": {},
   "outputs": [
    {
     "ename": "ValueError",
     "evalue": "complex() arg is a malformed string",
     "output_type": "error",
     "traceback": [
      "\u001b[0;31m---------------------------------------------------------------------------\u001b[0m",
      "\u001b[0;31mValueError\u001b[0m                                Traceback (most recent call last)",
      "Cell \u001b[0;32mIn[335], line 6\u001b[0m\n\u001b[1;32m      4\u001b[0m x_vals \u001b[38;5;241m=\u001b[39m [\u001b[38;5;28mfloat\u001b[39m(val) \u001b[38;5;28;01mfor\u001b[39;00m val \u001b[38;5;129;01min\u001b[39;00m lines[\u001b[38;5;241m0\u001b[39m]\u001b[38;5;241m.\u001b[39mstrip()\u001b[38;5;241m.\u001b[39msplit(\u001b[38;5;124m'\u001b[39m\u001b[38;5;130;01m\\t\u001b[39;00m\u001b[38;5;124m'\u001b[39m)]\n\u001b[1;32m      5\u001b[0m data_line \u001b[38;5;241m=\u001b[39m lines[\u001b[38;5;241m1\u001b[39m]\u001b[38;5;241m.\u001b[39mstrip()\u001b[38;5;241m.\u001b[39mreplace(\u001b[38;5;124m\"\u001b[39m\u001b[38;5;124mim\u001b[39m\u001b[38;5;124m\"\u001b[39m, \u001b[38;5;124m\"\u001b[39m\u001b[38;5;124mj\u001b[39m\u001b[38;5;124m\"\u001b[39m)\n\u001b[0;32m----> 6\u001b[0m data \u001b[38;5;241m=\u001b[39m np\u001b[38;5;241m.\u001b[39marray([\u001b[38;5;28mcomplex\u001b[39m(val\u001b[38;5;241m.\u001b[39mreplace(\u001b[38;5;124m\"\u001b[39m\u001b[38;5;124m \u001b[39m\u001b[38;5;124m\"\u001b[39m, \u001b[38;5;124m\"\u001b[39m\u001b[38;5;124m\"\u001b[39m)) \u001b[38;5;28;01mfor\u001b[39;00m val \u001b[38;5;129;01min\u001b[39;00m data_line\u001b[38;5;241m.\u001b[39msplit(\u001b[38;5;124m'\u001b[39m\u001b[38;5;130;01m\\t\u001b[39;00m\u001b[38;5;124m'\u001b[39m)])\n",
      "Cell \u001b[0;32mIn[335], line 6\u001b[0m, in \u001b[0;36m<listcomp>\u001b[0;34m(.0)\u001b[0m\n\u001b[1;32m      4\u001b[0m x_vals \u001b[38;5;241m=\u001b[39m [\u001b[38;5;28mfloat\u001b[39m(val) \u001b[38;5;28;01mfor\u001b[39;00m val \u001b[38;5;129;01min\u001b[39;00m lines[\u001b[38;5;241m0\u001b[39m]\u001b[38;5;241m.\u001b[39mstrip()\u001b[38;5;241m.\u001b[39msplit(\u001b[38;5;124m'\u001b[39m\u001b[38;5;130;01m\\t\u001b[39;00m\u001b[38;5;124m'\u001b[39m)]\n\u001b[1;32m      5\u001b[0m data_line \u001b[38;5;241m=\u001b[39m lines[\u001b[38;5;241m1\u001b[39m]\u001b[38;5;241m.\u001b[39mstrip()\u001b[38;5;241m.\u001b[39mreplace(\u001b[38;5;124m\"\u001b[39m\u001b[38;5;124mim\u001b[39m\u001b[38;5;124m\"\u001b[39m, \u001b[38;5;124m\"\u001b[39m\u001b[38;5;124mj\u001b[39m\u001b[38;5;124m\"\u001b[39m)\n\u001b[0;32m----> 6\u001b[0m data \u001b[38;5;241m=\u001b[39m np\u001b[38;5;241m.\u001b[39marray([\u001b[38;5;28;43mcomplex\u001b[39;49m\u001b[43m(\u001b[49m\u001b[43mval\u001b[49m\u001b[38;5;241;43m.\u001b[39;49m\u001b[43mreplace\u001b[49m\u001b[43m(\u001b[49m\u001b[38;5;124;43m\"\u001b[39;49m\u001b[38;5;124;43m \u001b[39;49m\u001b[38;5;124;43m\"\u001b[39;49m\u001b[43m,\u001b[49m\u001b[43m \u001b[49m\u001b[38;5;124;43m\"\u001b[39;49m\u001b[38;5;124;43m\"\u001b[39;49m\u001b[43m)\u001b[49m\u001b[43m)\u001b[49m \u001b[38;5;28;01mfor\u001b[39;00m val \u001b[38;5;129;01min\u001b[39;00m data_line\u001b[38;5;241m.\u001b[39msplit(\u001b[38;5;124m'\u001b[39m\u001b[38;5;130;01m\\t\u001b[39;00m\u001b[38;5;124m'\u001b[39m)])\n",
      "\u001b[0;31mValueError\u001b[0m: complex() arg is a malformed string"
     ]
    }
   ],
   "source": [
    "with open(\"../test.txt\") as f:\n",
    "    lines = f.readlines()\n",
    "\n",
    "x_vals = [float(val) for val in lines[0].strip().split('\\t')]\n",
    "data_line = lines[1].strip().replace(\"im\", \"j\")\n",
    "data = np.array([complex(val.replace(\" \", \"\")) for val in data_line.split('\\t')])\n"
   ]
  },
  {
   "cell_type": "code",
   "execution_count": 334,
   "metadata": {},
   "outputs": [
    {
     "name": "stderr",
     "output_type": "stream",
     "text": [
      "/opt/anaconda3/lib/python3.10/site-packages/matplotlib/cbook.py:1762: ComplexWarning: Casting complex values to real discards the imaginary part\n",
      "  return math.isfinite(val)\n",
      "/opt/anaconda3/lib/python3.10/site-packages/matplotlib/cbook.py:1398: ComplexWarning: Casting complex values to real discards the imaginary part\n",
      "  return np.asarray(x, float)\n"
     ]
    },
    {
     "data": {
      "text/plain": [
       "[<matplotlib.lines.Line2D at 0x7f8079d27730>]"
      ]
     },
     "execution_count": 334,
     "metadata": {},
     "output_type": "execute_result"
    },
    {
     "data": {
      "image/png": "[encoded data removed]",
      "text/plain": [
       "<Figure size 640x480 with 1 Axes>"
      ]
     },
     "metadata": {},
     "output_type": "display_data"
    }
   ],
   "source": [
    "plt.plot(x_vals,data)"
   ]
  },
  {
   "cell_type": "code",
   "execution_count": null,
   "metadata": {},
   "outputs": [],
   "source": []
  }
 ],
 "metadata": {
  "kernelspec": {
   "display_name": "base",
   "language": "python",
   "name": "python3"
  },
  "language_info": {
   "codemirror_mode": {
    "name": "ipython",
    "version": 3
   },
   "file_extension": ".py",
   "mimetype": "text/x-python",
   "name": "python",
   "nbconvert_exporter": "python",
   "pygments_lexer": "ipython3",
   "version": "3.10.14"
  }
 },
 "nbformat": 4,
 "nbformat_minor": 2
}
